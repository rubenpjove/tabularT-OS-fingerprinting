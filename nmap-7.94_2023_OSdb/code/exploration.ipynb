{
 "cells": [
  {
   "cell_type": "code",
   "execution_count": 32,
   "metadata": {},
   "outputs": [],
   "source": [
    "import random\n",
    "import pandas as pd\n",
    "from pandas.plotting import scatter_matrix\n",
    "import matplotlib.pyplot as plt\n",
    "import seaborn as sns\n",
    "\n",
    "sns.set(color_codes=True)\n",
    "%matplotlib inline"
   ]
  },
  {
   "cell_type": "code",
   "execution_count": 33,
   "metadata": {},
   "outputs": [],
   "source": [
    "seed = 42\n",
    "random.seed(seed)"
   ]
  },
  {
   "cell_type": "markdown",
   "metadata": {},
   "source": [
    "### Functions Definitions"
   ]
  },
  {
   "cell_type": "code",
   "execution_count": 34,
   "metadata": {},
   "outputs": [],
   "source": [
    "def my_show_df_shape(df):\n",
    "    print(\"Number of examples/rows: {:,}\".format(df.shape[0]))\n",
    "    print(\"Number of features: {:,}\".format(df.shape[1]))"
   ]
  },
  {
   "cell_type": "code",
   "execution_count": 35,
   "metadata": {},
   "outputs": [],
   "source": [
    "def my_show_df_NaNs(df):\n",
    "    nan_count = df.isna().sum()\n",
    "    # nan_count = nan_count[nan_count > 0]\n",
    "    nan_percentage = df.isna().mean() * 100\n",
    "    # nan_percentage = nan_percentage[nan_percentage > 0]\n",
    "    length = 0\n",
    "    for i in nan_count.index: \n",
    "        if len(i) > length:\n",
    "            length = len(i) \n",
    "    if nan_count.empty:\n",
    "        print(\"No NaN values found in the dataset.\")\n",
    "    else:\n",
    "        print(\"Number of examples/rows:\", df.shape[0])\n",
    "        print(\"Number of features:\", df.shape[1])\n",
    "        print(\"Features with NaNs:\")\n",
    "        for i in range(len(nan_count)):\n",
    "            feature = nan_count.index[i]\n",
    "            if nan_count[feature] > 0:\n",
    "                print(f\"{feature:<{length+5}} {nan_count[feature]:<10} {nan_percentage[feature]:<8.4f}%\")\n",
    "            else:\n",
    "                print(f\"{feature:<{length+10}} no NaNs\")"
   ]
  },
  {
   "cell_type": "code",
   "execution_count": 36,
   "metadata": {},
   "outputs": [],
   "source": [
    "def my_show_df(df):\n",
    "    nan_count = df.isna().sum()\n",
    "    # nan_count = nan_count[nan_count > 0]\n",
    "    nan_percentage = df.isna().mean() * 100\n",
    "    # nan_percentage = nan_percentage[nan_percentage > 0]\n",
    "    length = 0\n",
    "    for i in nan_count.index: \n",
    "        if len(i) > length:\n",
    "            length = len(i) \n",
    "    if nan_count.empty:\n",
    "        print(\"No NaN values found in the dataset.\")\n",
    "    else:\n",
    "        print(\"Number of examples/rows:\", df.shape[0])\n",
    "        print(\"Number of features:\", df.shape[1])\n",
    "        print(\"Features with NaNs:\")\n",
    "        for i in range(len(nan_count)):\n",
    "            feature = nan_count.index[i]\n",
    "            if nan_count[feature] > 0:\n",
    "                print(f\"{feature:<{length+5}} {nan_count[feature]:<10} {nan_percentage[feature]:<8.4f}%\")\n",
    "            else:\n",
    "                print(f\"{feature:<{length+10}} no NaNs\")"
   ]
  },
  {
   "cell_type": "markdown",
   "metadata": {},
   "source": [
    "### Dataset Load"
   ]
  },
  {
   "cell_type": "code",
   "execution_count": 37,
   "metadata": {},
   "outputs": [],
   "source": [
    "# Load the dataset\n",
    "\n",
    "filename = '../dataset/nmap-db.csv'\n",
    "# p = 0.1  # 10% of the lines - Around 4M rows\n",
    "# p = 0.0025  # 0,25% of the lines - Around 100k rows\n",
    "df = pd.read_csv(\n",
    "         filename,\n",
    "         header=0,\n",
    "         sep=',',\n",
    "        #  skiprows=lambda i: i>0 and random.random() > p\n",
    ")"
   ]
  },
  {
   "cell_type": "code",
   "execution_count": 38,
   "metadata": {},
   "outputs": [],
   "source": [
    "df = df"
   ]
  },
  {
   "cell_type": "markdown",
   "metadata": {
    "tags": [
     "parameters"
    ]
   },
   "source": [
    "### Initial Exploration"
   ]
  },
  {
   "cell_type": "code",
   "execution_count": 39,
   "metadata": {
    "slideshow": {
     "slide_type": "skip"
    }
   },
   "outputs": [
    {
     "data": {
      "text/html": [
       "<div>\n",
       "<style scoped>\n",
       "    .dataframe tbody tr th:only-of-type {\n",
       "        vertical-align: middle;\n",
       "    }\n",
       "\n",
       "    .dataframe tbody tr th {\n",
       "        vertical-align: top;\n",
       "    }\n",
       "\n",
       "    .dataframe thead th {\n",
       "        text-align: right;\n",
       "    }\n",
       "</style>\n",
       "<table border=\"1\" class=\"dataframe\">\n",
       "  <thead>\n",
       "    <tr style=\"text-align: right;\">\n",
       "      <th></th>\n",
       "      <th>Class.vendor_0</th>\n",
       "      <th>Class.OSfamily_0</th>\n",
       "      <th>Class.OSgen_0</th>\n",
       "      <th>Class.device_0</th>\n",
       "      <th>SEQ.SP_0</th>\n",
       "      <th>SEQ.GCD_0</th>\n",
       "      <th>SEQ.ISR_0</th>\n",
       "      <th>SEQ.TI_0</th>\n",
       "      <th>SEQ.TI_1</th>\n",
       "      <th>SEQ.CI_0</th>\n",
       "      <th>...</th>\n",
       "      <th>U1.RIPCK_0</th>\n",
       "      <th>U1.RUCK_0</th>\n",
       "      <th>U1.RUCK_1</th>\n",
       "      <th>U1.RUD_0</th>\n",
       "      <th>IE.R_0</th>\n",
       "      <th>IE.DFI_0</th>\n",
       "      <th>IE.T_0</th>\n",
       "      <th>IE.TG_0</th>\n",
       "      <th>IE.CD_0</th>\n",
       "      <th>IE.CD_1</th>\n",
       "    </tr>\n",
       "  </thead>\n",
       "  <tbody>\n",
       "    <tr>\n",
       "      <th>0</th>\n",
       "      <td>Linux</td>\n",
       "      <td>Linux</td>\n",
       "      <td>NaN</td>\n",
       "      <td>WAP</td>\n",
       "      <td>258</td>\n",
       "      <td>3</td>\n",
       "      <td>264</td>\n",
       "      <td>I</td>\n",
       "      <td>-1</td>\n",
       "      <td>NO</td>\n",
       "      <td>...</td>\n",
       "      <td>NO</td>\n",
       "      <td>NO</td>\n",
       "      <td>-1</td>\n",
       "      <td>NO</td>\n",
       "      <td>NO</td>\n",
       "      <td>N</td>\n",
       "      <td>125</td>\n",
       "      <td>128</td>\n",
       "      <td>S</td>\n",
       "      <td>-1</td>\n",
       "    </tr>\n",
       "    <tr>\n",
       "      <th>1</th>\n",
       "      <td>Linux</td>\n",
       "      <td>Linux</td>\n",
       "      <td>2.4.X</td>\n",
       "      <td>specialized</td>\n",
       "      <td>211</td>\n",
       "      <td>2</td>\n",
       "      <td>208</td>\n",
       "      <td>Z</td>\n",
       "      <td>-1</td>\n",
       "      <td>Z</td>\n",
       "      <td>...</td>\n",
       "      <td>G</td>\n",
       "      <td>G</td>\n",
       "      <td>-1</td>\n",
       "      <td>G</td>\n",
       "      <td>NO</td>\n",
       "      <td>N</td>\n",
       "      <td>63</td>\n",
       "      <td>64</td>\n",
       "      <td>S</td>\n",
       "      <td>-1</td>\n",
       "    </tr>\n",
       "    <tr>\n",
       "      <th>2</th>\n",
       "      <td>Linux</td>\n",
       "      <td>Linux</td>\n",
       "      <td>2.6.X</td>\n",
       "      <td>specialized</td>\n",
       "      <td>0</td>\n",
       "      <td>64001</td>\n",
       "      <td>151</td>\n",
       "      <td>I</td>\n",
       "      <td>-1</td>\n",
       "      <td>I</td>\n",
       "      <td>...</td>\n",
       "      <td>G</td>\n",
       "      <td>G</td>\n",
       "      <td>-1</td>\n",
       "      <td>G</td>\n",
       "      <td>NO</td>\n",
       "      <td>S</td>\n",
       "      <td>68</td>\n",
       "      <td>64</td>\n",
       "      <td>Z</td>\n",
       "      <td>-1</td>\n",
       "    </tr>\n",
       "    <tr>\n",
       "      <th>3</th>\n",
       "      <td>Linux</td>\n",
       "      <td>Linux</td>\n",
       "      <td>2.6.X</td>\n",
       "      <td>specialized</td>\n",
       "      <td>1</td>\n",
       "      <td>128002</td>\n",
       "      <td>155</td>\n",
       "      <td>I</td>\n",
       "      <td>-1</td>\n",
       "      <td>I</td>\n",
       "      <td>...</td>\n",
       "      <td>G</td>\n",
       "      <td>G</td>\n",
       "      <td>-1</td>\n",
       "      <td>G</td>\n",
       "      <td>NO</td>\n",
       "      <td>S</td>\n",
       "      <td>59</td>\n",
       "      <td>64</td>\n",
       "      <td>Z</td>\n",
       "      <td>-1</td>\n",
       "    </tr>\n",
       "    <tr>\n",
       "      <th>4</th>\n",
       "      <td>Linux</td>\n",
       "      <td>Linux</td>\n",
       "      <td>2.6.X</td>\n",
       "      <td>specialized</td>\n",
       "      <td>1</td>\n",
       "      <td>192003</td>\n",
       "      <td>156</td>\n",
       "      <td>I</td>\n",
       "      <td>-1</td>\n",
       "      <td>I</td>\n",
       "      <td>...</td>\n",
       "      <td>G</td>\n",
       "      <td>G</td>\n",
       "      <td>-1</td>\n",
       "      <td>G</td>\n",
       "      <td>NO</td>\n",
       "      <td>S</td>\n",
       "      <td>61</td>\n",
       "      <td>64</td>\n",
       "      <td>Z</td>\n",
       "      <td>-1</td>\n",
       "    </tr>\n",
       "    <tr>\n",
       "      <th>...</th>\n",
       "      <td>...</td>\n",
       "      <td>...</td>\n",
       "      <td>...</td>\n",
       "      <td>...</td>\n",
       "      <td>...</td>\n",
       "      <td>...</td>\n",
       "      <td>...</td>\n",
       "      <td>...</td>\n",
       "      <td>...</td>\n",
       "      <td>...</td>\n",
       "      <td>...</td>\n",
       "      <td>...</td>\n",
       "      <td>...</td>\n",
       "      <td>...</td>\n",
       "      <td>...</td>\n",
       "      <td>...</td>\n",
       "      <td>...</td>\n",
       "      <td>...</td>\n",
       "      <td>...</td>\n",
       "      <td>...</td>\n",
       "      <td>...</td>\n",
       "    </tr>\n",
       "    <tr>\n",
       "      <th>38812</th>\n",
       "      <td>Linux</td>\n",
       "      <td>Linux</td>\n",
       "      <td>3.X</td>\n",
       "      <td>generalpurpose</td>\n",
       "      <td>259</td>\n",
       "      <td>2</td>\n",
       "      <td>265</td>\n",
       "      <td>Z</td>\n",
       "      <td>-1</td>\n",
       "      <td>RI</td>\n",
       "      <td>...</td>\n",
       "      <td>G</td>\n",
       "      <td>G</td>\n",
       "      <td>-1</td>\n",
       "      <td>G</td>\n",
       "      <td>NO</td>\n",
       "      <td>N</td>\n",
       "      <td>66</td>\n",
       "      <td>64</td>\n",
       "      <td>S</td>\n",
       "      <td>-1</td>\n",
       "    </tr>\n",
       "    <tr>\n",
       "      <th>38813</th>\n",
       "      <td>Microsoft</td>\n",
       "      <td>Windows</td>\n",
       "      <td>10</td>\n",
       "      <td>generalpurpose</td>\n",
       "      <td>250</td>\n",
       "      <td>3</td>\n",
       "      <td>264</td>\n",
       "      <td>I</td>\n",
       "      <td>-1</td>\n",
       "      <td>I</td>\n",
       "      <td>...</td>\n",
       "      <td>G</td>\n",
       "      <td>G</td>\n",
       "      <td>-1</td>\n",
       "      <td>G</td>\n",
       "      <td>NO</td>\n",
       "      <td>N</td>\n",
       "      <td>126</td>\n",
       "      <td>128</td>\n",
       "      <td>Z</td>\n",
       "      <td>-1</td>\n",
       "    </tr>\n",
       "    <tr>\n",
       "      <th>38814</th>\n",
       "      <td>Apple</td>\n",
       "      <td>macOS</td>\n",
       "      <td>10.15.X</td>\n",
       "      <td>generalpurpose</td>\n",
       "      <td>261</td>\n",
       "      <td>3</td>\n",
       "      <td>268</td>\n",
       "      <td>Z</td>\n",
       "      <td>-1</td>\n",
       "      <td>RD</td>\n",
       "      <td>...</td>\n",
       "      <td>G</td>\n",
       "      <td>NO</td>\n",
       "      <td>0</td>\n",
       "      <td>G</td>\n",
       "      <td>NO</td>\n",
       "      <td>S</td>\n",
       "      <td>67</td>\n",
       "      <td>64</td>\n",
       "      <td>S</td>\n",
       "      <td>-1</td>\n",
       "    </tr>\n",
       "    <tr>\n",
       "      <th>38815</th>\n",
       "      <td>FreeBSD</td>\n",
       "      <td>BSD</td>\n",
       "      <td>12.X</td>\n",
       "      <td>storage-misc</td>\n",
       "      <td>266</td>\n",
       "      <td>6</td>\n",
       "      <td>274</td>\n",
       "      <td>I</td>\n",
       "      <td>-1</td>\n",
       "      <td>I</td>\n",
       "      <td>...</td>\n",
       "      <td>G</td>\n",
       "      <td>G</td>\n",
       "      <td>-1</td>\n",
       "      <td>G</td>\n",
       "      <td>NO</td>\n",
       "      <td>S</td>\n",
       "      <td>60</td>\n",
       "      <td>64</td>\n",
       "      <td>S</td>\n",
       "      <td>-1</td>\n",
       "    </tr>\n",
       "    <tr>\n",
       "      <th>38816</th>\n",
       "      <td>FreeBSD</td>\n",
       "      <td>BSD</td>\n",
       "      <td>13.X</td>\n",
       "      <td>generalpurpose</td>\n",
       "      <td>260</td>\n",
       "      <td>1</td>\n",
       "      <td>266</td>\n",
       "      <td>Z</td>\n",
       "      <td>-1</td>\n",
       "      <td>Z</td>\n",
       "      <td>...</td>\n",
       "      <td>Z</td>\n",
       "      <td>G</td>\n",
       "      <td>-1</td>\n",
       "      <td>G</td>\n",
       "      <td>NO</td>\n",
       "      <td>S</td>\n",
       "      <td>66</td>\n",
       "      <td>64</td>\n",
       "      <td>S</td>\n",
       "      <td>-1</td>\n",
       "    </tr>\n",
       "  </tbody>\n",
       "</table>\n",
       "<p>38817 rows × 263 columns</p>\n",
       "</div>"
      ],
      "text/plain": [
       "      Class.vendor_0 Class.OSfamily_0 Class.OSgen_0  Class.device_0  SEQ.SP_0  \\\n",
       "0              Linux            Linux           NaN             WAP       258   \n",
       "1              Linux            Linux         2.4.X     specialized       211   \n",
       "2              Linux            Linux         2.6.X     specialized         0   \n",
       "3              Linux            Linux         2.6.X     specialized         1   \n",
       "4              Linux            Linux         2.6.X     specialized         1   \n",
       "...              ...              ...           ...             ...       ...   \n",
       "38812          Linux            Linux           3.X  generalpurpose       259   \n",
       "38813      Microsoft          Windows            10  generalpurpose       250   \n",
       "38814          Apple            macOS       10.15.X  generalpurpose       261   \n",
       "38815        FreeBSD              BSD          12.X    storage-misc       266   \n",
       "38816        FreeBSD              BSD          13.X  generalpurpose       260   \n",
       "\n",
       "       SEQ.GCD_0  SEQ.ISR_0 SEQ.TI_0  SEQ.TI_1 SEQ.CI_0  ...  U1.RIPCK_0  \\\n",
       "0              3        264        I        -1       NO  ...          NO   \n",
       "1              2        208        Z        -1        Z  ...           G   \n",
       "2          64001        151        I        -1        I  ...           G   \n",
       "3         128002        155        I        -1        I  ...           G   \n",
       "4         192003        156        I        -1        I  ...           G   \n",
       "...          ...        ...      ...       ...      ...  ...         ...   \n",
       "38812          2        265        Z        -1       RI  ...           G   \n",
       "38813          3        264        I        -1        I  ...           G   \n",
       "38814          3        268        Z        -1       RD  ...           G   \n",
       "38815          6        274        I        -1        I  ...           G   \n",
       "38816          1        266        Z        -1        Z  ...           Z   \n",
       "\n",
       "      U1.RUCK_0  U1.RUCK_1 U1.RUD_0 IE.R_0  IE.DFI_0 IE.T_0 IE.TG_0 IE.CD_0  \\\n",
       "0            NO         -1       NO     NO         N    125     128       S   \n",
       "1             G         -1        G     NO         N     63      64       S   \n",
       "2             G         -1        G     NO         S     68      64       Z   \n",
       "3             G         -1        G     NO         S     59      64       Z   \n",
       "4             G         -1        G     NO         S     61      64       Z   \n",
       "...         ...        ...      ...    ...       ...    ...     ...     ...   \n",
       "38812         G         -1        G     NO         N     66      64       S   \n",
       "38813         G         -1        G     NO         N    126     128       Z   \n",
       "38814        NO          0        G     NO         S     67      64       S   \n",
       "38815         G         -1        G     NO         S     60      64       S   \n",
       "38816         G         -1        G     NO         S     66      64       S   \n",
       "\n",
       "      IE.CD_1  \n",
       "0          -1  \n",
       "1          -1  \n",
       "2          -1  \n",
       "3          -1  \n",
       "4          -1  \n",
       "...       ...  \n",
       "38812      -1  \n",
       "38813      -1  \n",
       "38814      -1  \n",
       "38815      -1  \n",
       "38816      -1  \n",
       "\n",
       "[38817 rows x 263 columns]"
      ]
     },
     "execution_count": 39,
     "metadata": {},
     "output_type": "execute_result"
    }
   ],
   "source": [
    "df"
   ]
  },
  {
   "cell_type": "code",
   "execution_count": 40,
   "metadata": {},
   "outputs": [
    {
     "name": "stdout",
     "output_type": "stream",
     "text": [
      "Number of examples/rows: 38,817\n",
      "Number of features: 263\n"
     ]
    }
   ],
   "source": [
    "my_show_df_shape(df)"
   ]
  },
  {
   "cell_type": "code",
   "execution_count": 41,
   "metadata": {},
   "outputs": [
    {
     "name": "stdout",
     "output_type": "stream",
     "text": [
      "<class 'pandas.core.frame.DataFrame'>\n",
      "RangeIndex: 38817 entries, 0 to 38816\n",
      "Columns: 263 entries, Class.vendor_0 to IE.CD_1\n",
      "dtypes: int64(53), object(210)\n",
      "memory usage: 77.9+ MB\n",
      "None\n"
     ]
    }
   ],
   "source": [
    "print(df.info())  # Get information about the dataset (e.g., column names, data types)"
   ]
  },
  {
   "cell_type": "code",
   "execution_count": 42,
   "metadata": {},
   "outputs": [
    {
     "name": "stdout",
     "output_type": "stream",
     "text": [
      "  Class.vendor_0 Class.OSfamily_0 Class.OSgen_0 Class.device_0  SEQ.SP_0  \\\n",
      "0          Linux            Linux           NaN            WAP       258   \n",
      "1          Linux            Linux         2.4.X    specialized       211   \n",
      "2          Linux            Linux         2.6.X    specialized         0   \n",
      "3          Linux            Linux         2.6.X    specialized         1   \n",
      "4          Linux            Linux         2.6.X    specialized         1   \n",
      "\n",
      "   SEQ.GCD_0  SEQ.ISR_0 SEQ.TI_0  SEQ.TI_1 SEQ.CI_0  ...  U1.RIPCK_0  \\\n",
      "0          3        264        I        -1       NO  ...          NO   \n",
      "1          2        208        Z        -1        Z  ...           G   \n",
      "2      64001        151        I        -1        I  ...           G   \n",
      "3     128002        155        I        -1        I  ...           G   \n",
      "4     192003        156        I        -1        I  ...           G   \n",
      "\n",
      "  U1.RUCK_0  U1.RUCK_1 U1.RUD_0 IE.R_0  IE.DFI_0 IE.T_0 IE.TG_0 IE.CD_0  \\\n",
      "0        NO         -1       NO     NO         N    125     128       S   \n",
      "1         G         -1        G     NO         N     63      64       S   \n",
      "2         G         -1        G     NO         S     68      64       Z   \n",
      "3         G         -1        G     NO         S     59      64       Z   \n",
      "4         G         -1        G     NO         S     61      64       Z   \n",
      "\n",
      "  IE.CD_1  \n",
      "0      -1  \n",
      "1      -1  \n",
      "2      -1  \n",
      "3      -1  \n",
      "4      -1  \n",
      "\n",
      "[5 rows x 263 columns]\n"
     ]
    }
   ],
   "source": [
    "print(df.head())  # Display the first few rows of the dataset"
   ]
  },
  {
   "cell_type": "code",
   "execution_count": 43,
   "metadata": {},
   "outputs": [
    {
     "name": "stdout",
     "output_type": "stream",
     "text": [
      "['Class.vendor_0', 'Class.OSfamily_0', 'Class.OSgen_0', 'Class.device_0', 'SEQ.SP_0', 'SEQ.GCD_0', 'SEQ.ISR_0', 'SEQ.TI_0', 'SEQ.TI_1', 'SEQ.CI_0', 'SEQ.CI_1', 'SEQ.II_0', 'SEQ.II_1', 'SEQ.SS_0', 'SEQ.TS_0', 'SEQ.TS_1', 'OPS.O1_0', 'OPS.O1_1', 'OPS.O1_2', 'OPS.O1_3', 'OPS.O1_4', 'OPS.O1_5', 'OPS.O1_6', 'OPS.O1_7', 'OPS.O1_8', 'OPS.O2_0', 'OPS.O2_1', 'OPS.O2_2', 'OPS.O2_3', 'OPS.O2_4', 'OPS.O2_5', 'OPS.O2_6', 'OPS.O2_7', 'OPS.O2_8', 'OPS.O3_0', 'OPS.O3_1', 'OPS.O3_2', 'OPS.O3_3', 'OPS.O3_4', 'OPS.O3_5', 'OPS.O3_6', 'OPS.O3_7', 'OPS.O3_8', 'OPS.O3_9', 'OPS.O3_10', 'OPS.O3_11', 'OPS.O4_0', 'OPS.O4_1', 'OPS.O4_2', 'OPS.O4_3', 'OPS.O4_4', 'OPS.O4_5', 'OPS.O4_6', 'OPS.O4_7', 'OPS.O4_8', 'OPS.O5_0', 'OPS.O5_1', 'OPS.O5_2', 'OPS.O5_3', 'OPS.O5_4', 'OPS.O5_5', 'OPS.O5_6', 'OPS.O5_7', 'OPS.O5_8', 'OPS.O6_0', 'OPS.O6_1', 'OPS.O6_2', 'OPS.O6_3', 'OPS.O6_4', 'OPS.O6_5', 'OPS.O6_6', 'WIN.W1_0', 'WIN.W2_0', 'WIN.W3_0', 'WIN.W4_0', 'WIN.W5_0', 'WIN.W6_0', 'ECN.R_0', 'ECN.DF_0', 'ECN.T_0', 'ECN.TG_0', 'ECN.W_0', 'ECN.O_0', 'ECN.O_1', 'ECN.O_2', 'ECN.O_3', 'ECN.O_4', 'ECN.O_5', 'ECN.CC_0', 'ECN.Q_0', 'ECN.Q_1', 'T1.R_0', 'T1.DF_0', 'T1.T_0', 'T1.TG_0', 'T1.S_0', 'T1.A_0', 'T1.F_0', 'T1.F_1', 'T1.F_2', 'T1.F_3', 'T1.F_4', 'T1.F_5', 'T1.F_6', 'T1.RD_0', 'T1.Q_0', 'T1.Q_1', 'T2.R_0', 'T2.DF_0', 'T2.T_0', 'T2.TG_0', 'T2.W_0', 'T2.S_0', 'T2.A_0', 'T2.F_0', 'T2.F_1', 'T2.F_2', 'T2.F_3', 'T2.F_4', 'T2.F_5', 'T2.F_6', 'T2.O_0', 'T2.O_1', 'T2.O_2', 'T2.O_3', 'T2.O_4', 'T2.RD_0', 'T2.Q_0', 'T2.Q_1', 'T3.R_0', 'T3.DF_0', 'T3.T_0', 'T3.TG_0', 'T3.W_0', 'T3.S_0', 'T3.A_0', 'T3.F_0', 'T3.F_1', 'T3.F_2', 'T3.F_3', 'T3.F_4', 'T3.F_5', 'T3.F_6', 'T3.O_0', 'T3.O_1', 'T3.O_2', 'T3.O_3', 'T3.O_4', 'T3.O_5', 'T3.O_6', 'T3.O_7', 'T3.O_8', 'T3.RD_0', 'T3.Q_0', 'T3.Q_1', 'T4.R_0', 'T4.DF_0', 'T4.T_0', 'T4.TG_0', 'T4.W_0', 'T4.S_0', 'T4.A_0', 'T4.F_0', 'T4.F_1', 'T4.F_2', 'T4.F_3', 'T4.F_4', 'T4.F_5', 'T4.F_6', 'T4.O_0', 'T4.O_1', 'T4.O_2', 'T4.O_3', 'T4.O_4', 'T4.RD_0', 'T4.Q_0', 'T4.Q_1', 'T5.R_0', 'T5.DF_0', 'T5.T_0', 'T5.TG_0', 'T5.W_0', 'T5.S_0', 'T5.A_0', 'T5.F_0', 'T5.F_1', 'T5.F_2', 'T5.F_3', 'T5.F_4', 'T5.F_5', 'T5.F_6', 'T5.O_0', 'T5.O_1', 'T5.O_2', 'T5.O_3', 'T5.O_4', 'T5.RD_0', 'T5.Q_0', 'T5.Q_1', 'T6.R_0', 'T6.DF_0', 'T6.T_0', 'T6.TG_0', 'T6.W_0', 'T6.S_0', 'T6.A_0', 'T6.F_0', 'T6.F_1', 'T6.F_2', 'T6.F_3', 'T6.F_4', 'T6.F_5', 'T6.F_6', 'T6.O_0', 'T6.O_1', 'T6.O_2', 'T6.O_3', 'T6.O_4', 'T6.RD_0', 'T6.Q_0', 'T6.Q_1', 'T7.R_0', 'T7.DF_0', 'T7.T_0', 'T7.TG_0', 'T7.W_0', 'T7.S_0', 'T7.A_0', 'T7.F_0', 'T7.F_1', 'T7.F_2', 'T7.F_3', 'T7.F_4', 'T7.F_5', 'T7.F_6', 'T7.O_0', 'T7.O_1', 'T7.O_2', 'T7.O_3', 'T7.O_4', 'T7.RD_0', 'T7.Q_0', 'T7.Q_1', 'U1.R_0', 'U1.DF_0', 'U1.T_0', 'U1.TG_0', 'U1.IPL_0', 'U1.UN_0', 'U1.RIPL_0', 'U1.RIPL_1', 'U1.RID_0', 'U1.RID_1', 'U1.RIPCK_0', 'U1.RUCK_0', 'U1.RUCK_1', 'U1.RUD_0', 'IE.R_0', 'IE.DFI_0', 'IE.T_0', 'IE.TG_0', 'IE.CD_0', 'IE.CD_1']\n"
     ]
    }
   ],
   "source": [
    "columns_list = df.columns.tolist()\n",
    "print(columns_list)  # Get the list of columns in the dataset"
   ]
  },
  {
   "cell_type": "code",
   "execution_count": 44,
   "metadata": {},
   "outputs": [
    {
     "name": "stdout",
     "output_type": "stream",
     "text": [
      "int64 (53)\n",
      "['SEQ.SP_0', 'SEQ.GCD_0', 'SEQ.ISR_0', 'SEQ.TI_1', 'SEQ.CI_1', 'SEQ.II_1', 'SEQ.TS_1', 'WIN.W1_0', 'WIN.W2_0', 'WIN.W3_0', 'WIN.W4_0', 'WIN.W5_0', 'WIN.W6_0', 'ECN.T_0', 'ECN.TG_0', 'ECN.W_0', 'T1.T_0', 'T1.TG_0', 'T1.RD_0', 'T2.T_0', 'T2.TG_0', 'T2.W_0', 'T2.RD_0', 'T3.T_0', 'T3.TG_0', 'T3.W_0', 'T3.RD_0', 'T4.T_0', 'T4.TG_0', 'T4.W_0', 'T4.RD_0', 'T5.T_0', 'T5.TG_0', 'T5.W_0', 'T5.RD_0', 'T6.T_0', 'T6.TG_0', 'T6.W_0', 'T6.RD_0', 'T7.T_0', 'T7.TG_0', 'T7.W_0', 'T7.RD_0', 'U1.T_0', 'U1.TG_0', 'U1.IPL_0', 'U1.UN_0', 'U1.RIPL_1', 'U1.RID_1', 'U1.RUCK_1', 'IE.T_0', 'IE.TG_0', 'IE.CD_1']\n",
      "\n",
      "object (210)\n",
      "['Class.vendor_0', 'Class.OSfamily_0', 'Class.OSgen_0', 'Class.device_0', 'SEQ.TI_0', 'SEQ.CI_0', 'SEQ.II_0', 'SEQ.SS_0', 'SEQ.TS_0', 'OPS.O1_0', 'OPS.O1_1', 'OPS.O1_2', 'OPS.O1_3', 'OPS.O1_4', 'OPS.O1_5', 'OPS.O1_6', 'OPS.O1_7', 'OPS.O1_8', 'OPS.O2_0', 'OPS.O2_1', 'OPS.O2_2', 'OPS.O2_3', 'OPS.O2_4', 'OPS.O2_5', 'OPS.O2_6', 'OPS.O2_7', 'OPS.O2_8', 'OPS.O3_0', 'OPS.O3_1', 'OPS.O3_2', 'OPS.O3_3', 'OPS.O3_4', 'OPS.O3_5', 'OPS.O3_6', 'OPS.O3_7', 'OPS.O3_8', 'OPS.O3_9', 'OPS.O3_10', 'OPS.O3_11', 'OPS.O4_0', 'OPS.O4_1', 'OPS.O4_2', 'OPS.O4_3', 'OPS.O4_4', 'OPS.O4_5', 'OPS.O4_6', 'OPS.O4_7', 'OPS.O4_8', 'OPS.O5_0', 'OPS.O5_1', 'OPS.O5_2', 'OPS.O5_3', 'OPS.O5_4', 'OPS.O5_5', 'OPS.O5_6', 'OPS.O5_7', 'OPS.O5_8', 'OPS.O6_0', 'OPS.O6_1', 'OPS.O6_2', 'OPS.O6_3', 'OPS.O6_4', 'OPS.O6_5', 'OPS.O6_6', 'ECN.R_0', 'ECN.DF_0', 'ECN.O_0', 'ECN.O_1', 'ECN.O_2', 'ECN.O_3', 'ECN.O_4', 'ECN.O_5', 'ECN.CC_0', 'ECN.Q_0', 'ECN.Q_1', 'T1.R_0', 'T1.DF_0', 'T1.S_0', 'T1.A_0', 'T1.F_0', 'T1.F_1', 'T1.F_2', 'T1.F_3', 'T1.F_4', 'T1.F_5', 'T1.F_6', 'T1.Q_0', 'T1.Q_1', 'T2.R_0', 'T2.DF_0', 'T2.S_0', 'T2.A_0', 'T2.F_0', 'T2.F_1', 'T2.F_2', 'T2.F_3', 'T2.F_4', 'T2.F_5', 'T2.F_6', 'T2.O_0', 'T2.O_1', 'T2.O_2', 'T2.O_3', 'T2.O_4', 'T2.Q_0', 'T2.Q_1', 'T3.R_0', 'T3.DF_0', 'T3.S_0', 'T3.A_0', 'T3.F_0', 'T3.F_1', 'T3.F_2', 'T3.F_3', 'T3.F_4', 'T3.F_5', 'T3.F_6', 'T3.O_0', 'T3.O_1', 'T3.O_2', 'T3.O_3', 'T3.O_4', 'T3.O_5', 'T3.O_6', 'T3.O_7', 'T3.O_8', 'T3.Q_0', 'T3.Q_1', 'T4.R_0', 'T4.DF_0', 'T4.S_0', 'T4.A_0', 'T4.F_0', 'T4.F_1', 'T4.F_2', 'T4.F_3', 'T4.F_4', 'T4.F_5', 'T4.F_6', 'T4.O_0', 'T4.O_1', 'T4.O_2', 'T4.O_3', 'T4.O_4', 'T4.Q_0', 'T4.Q_1', 'T5.R_0', 'T5.DF_0', 'T5.S_0', 'T5.A_0', 'T5.F_0', 'T5.F_1', 'T5.F_2', 'T5.F_3', 'T5.F_4', 'T5.F_5', 'T5.F_6', 'T5.O_0', 'T5.O_1', 'T5.O_2', 'T5.O_3', 'T5.O_4', 'T5.Q_0', 'T5.Q_1', 'T6.R_0', 'T6.DF_0', 'T6.S_0', 'T6.A_0', 'T6.F_0', 'T6.F_1', 'T6.F_2', 'T6.F_3', 'T6.F_4', 'T6.F_5', 'T6.F_6', 'T6.O_0', 'T6.O_1', 'T6.O_2', 'T6.O_3', 'T6.O_4', 'T6.Q_0', 'T6.Q_1', 'T7.R_0', 'T7.DF_0', 'T7.S_0', 'T7.A_0', 'T7.F_0', 'T7.F_1', 'T7.F_2', 'T7.F_3', 'T7.F_4', 'T7.F_5', 'T7.F_6', 'T7.O_0', 'T7.O_1', 'T7.O_2', 'T7.O_3', 'T7.O_4', 'T7.Q_0', 'T7.Q_1', 'U1.R_0', 'U1.DF_0', 'U1.RIPL_0', 'U1.RID_0', 'U1.RIPCK_0', 'U1.RUCK_0', 'U1.RUD_0', 'IE.R_0', 'IE.DFI_0', 'IE.CD_0']\n",
      "\n"
     ]
    }
   ],
   "source": [
    "column_names_by_dtype = {str(dtype): columns.to_list() for dtype, columns in df.columns.groupby(df.dtypes).items()}\n",
    "for dtype, columns in column_names_by_dtype.items():\n",
    "    print(f\"{dtype} ({len(columns)})\")\n",
    "    print(columns)\n",
    "    print()"
   ]
  },
  {
   "cell_type": "code",
   "execution_count": 45,
   "metadata": {},
   "outputs": [
    {
     "name": "stdout",
     "output_type": "stream",
     "text": [
      "Number of NaN values: 682\n",
      "Number of duplicated values: 0\n"
     ]
    }
   ],
   "source": [
    "# Count the number of NaN values in the dataframe\n",
    "nan_count = df.isna().sum().sum()\n",
    "\n",
    "# Count the number of duplicated values in the dataframe\n",
    "duplicated_count = df.duplicated().sum()\n",
    "\n",
    "# Print the results\n",
    "print(\"Number of NaN values:\", nan_count)\n",
    "print(\"Number of duplicated values:\", duplicated_count)"
   ]
  },
  {
   "cell_type": "code",
   "execution_count": 46,
   "metadata": {},
   "outputs": [
    {
     "name": "stdout",
     "output_type": "stream",
     "text": [
      "Number of examples/rows: 38817\n",
      "Number of features: 263\n",
      "Features with NaNs:\n",
      "Class.vendor_0             no NaNs\n",
      "Class.OSfamily_0           no NaNs\n",
      "Class.OSgen_0         682        1.7570  %\n",
      "Class.device_0             no NaNs\n",
      "SEQ.SP_0                   no NaNs\n",
      "SEQ.GCD_0                  no NaNs\n",
      "SEQ.ISR_0                  no NaNs\n",
      "SEQ.TI_0                   no NaNs\n",
      "SEQ.TI_1                   no NaNs\n",
      "SEQ.CI_0                   no NaNs\n",
      "SEQ.CI_1                   no NaNs\n",
      "SEQ.II_0                   no NaNs\n",
      "SEQ.II_1                   no NaNs\n",
      "SEQ.SS_0                   no NaNs\n",
      "SEQ.TS_0                   no NaNs\n",
      "SEQ.TS_1                   no NaNs\n",
      "OPS.O1_0                   no NaNs\n",
      "OPS.O1_1                   no NaNs\n",
      "OPS.O1_2                   no NaNs\n",
      "OPS.O1_3                   no NaNs\n",
      "OPS.O1_4                   no NaNs\n",
      "OPS.O1_5                   no NaNs\n",
      "OPS.O1_6                   no NaNs\n",
      "OPS.O1_7                   no NaNs\n",
      "OPS.O1_8                   no NaNs\n",
      "OPS.O2_0                   no NaNs\n",
      "OPS.O2_1                   no NaNs\n",
      "OPS.O2_2                   no NaNs\n",
      "OPS.O2_3                   no NaNs\n",
      "OPS.O2_4                   no NaNs\n",
      "OPS.O2_5                   no NaNs\n",
      "OPS.O2_6                   no NaNs\n",
      "OPS.O2_7                   no NaNs\n",
      "OPS.O2_8                   no NaNs\n",
      "OPS.O3_0                   no NaNs\n",
      "OPS.O3_1                   no NaNs\n",
      "OPS.O3_2                   no NaNs\n",
      "OPS.O3_3                   no NaNs\n",
      "OPS.O3_4                   no NaNs\n",
      "OPS.O3_5                   no NaNs\n",
      "OPS.O3_6                   no NaNs\n",
      "OPS.O3_7                   no NaNs\n",
      "OPS.O3_8                   no NaNs\n",
      "OPS.O3_9                   no NaNs\n",
      "OPS.O3_10                  no NaNs\n",
      "OPS.O3_11                  no NaNs\n",
      "OPS.O4_0                   no NaNs\n",
      "OPS.O4_1                   no NaNs\n",
      "OPS.O4_2                   no NaNs\n",
      "OPS.O4_3                   no NaNs\n",
      "OPS.O4_4                   no NaNs\n",
      "OPS.O4_5                   no NaNs\n",
      "OPS.O4_6                   no NaNs\n",
      "OPS.O4_7                   no NaNs\n",
      "OPS.O4_8                   no NaNs\n",
      "OPS.O5_0                   no NaNs\n",
      "OPS.O5_1                   no NaNs\n",
      "OPS.O5_2                   no NaNs\n",
      "OPS.O5_3                   no NaNs\n",
      "OPS.O5_4                   no NaNs\n",
      "OPS.O5_5                   no NaNs\n",
      "OPS.O5_6                   no NaNs\n",
      "OPS.O5_7                   no NaNs\n",
      "OPS.O5_8                   no NaNs\n",
      "OPS.O6_0                   no NaNs\n",
      "OPS.O6_1                   no NaNs\n",
      "OPS.O6_2                   no NaNs\n",
      "OPS.O6_3                   no NaNs\n",
      "OPS.O6_4                   no NaNs\n",
      "OPS.O6_5                   no NaNs\n",
      "OPS.O6_6                   no NaNs\n",
      "WIN.W1_0                   no NaNs\n",
      "WIN.W2_0                   no NaNs\n",
      "WIN.W3_0                   no NaNs\n",
      "WIN.W4_0                   no NaNs\n",
      "WIN.W5_0                   no NaNs\n",
      "WIN.W6_0                   no NaNs\n",
      "ECN.R_0                    no NaNs\n",
      "ECN.DF_0                   no NaNs\n",
      "ECN.T_0                    no NaNs\n",
      "ECN.TG_0                   no NaNs\n",
      "ECN.W_0                    no NaNs\n",
      "ECN.O_0                    no NaNs\n",
      "ECN.O_1                    no NaNs\n",
      "ECN.O_2                    no NaNs\n",
      "ECN.O_3                    no NaNs\n",
      "ECN.O_4                    no NaNs\n",
      "ECN.O_5                    no NaNs\n",
      "ECN.CC_0                   no NaNs\n",
      "ECN.Q_0                    no NaNs\n",
      "ECN.Q_1                    no NaNs\n",
      "T1.R_0                     no NaNs\n",
      "T1.DF_0                    no NaNs\n",
      "T1.T_0                     no NaNs\n",
      "T1.TG_0                    no NaNs\n",
      "T1.S_0                     no NaNs\n",
      "T1.A_0                     no NaNs\n",
      "T1.F_0                     no NaNs\n",
      "T1.F_1                     no NaNs\n",
      "T1.F_2                     no NaNs\n",
      "T1.F_3                     no NaNs\n",
      "T1.F_4                     no NaNs\n",
      "T1.F_5                     no NaNs\n",
      "T1.F_6                     no NaNs\n",
      "T1.RD_0                    no NaNs\n",
      "T1.Q_0                     no NaNs\n",
      "T1.Q_1                     no NaNs\n",
      "T2.R_0                     no NaNs\n",
      "T2.DF_0                    no NaNs\n",
      "T2.T_0                     no NaNs\n",
      "T2.TG_0                    no NaNs\n",
      "T2.W_0                     no NaNs\n",
      "T2.S_0                     no NaNs\n",
      "T2.A_0                     no NaNs\n",
      "T2.F_0                     no NaNs\n",
      "T2.F_1                     no NaNs\n",
      "T2.F_2                     no NaNs\n",
      "T2.F_3                     no NaNs\n",
      "T2.F_4                     no NaNs\n",
      "T2.F_5                     no NaNs\n",
      "T2.F_6                     no NaNs\n",
      "T2.O_0                     no NaNs\n",
      "T2.O_1                     no NaNs\n",
      "T2.O_2                     no NaNs\n",
      "T2.O_3                     no NaNs\n",
      "T2.O_4                     no NaNs\n",
      "T2.RD_0                    no NaNs\n",
      "T2.Q_0                     no NaNs\n",
      "T2.Q_1                     no NaNs\n",
      "T3.R_0                     no NaNs\n",
      "T3.DF_0                    no NaNs\n",
      "T3.T_0                     no NaNs\n",
      "T3.TG_0                    no NaNs\n",
      "T3.W_0                     no NaNs\n",
      "T3.S_0                     no NaNs\n",
      "T3.A_0                     no NaNs\n",
      "T3.F_0                     no NaNs\n",
      "T3.F_1                     no NaNs\n",
      "T3.F_2                     no NaNs\n",
      "T3.F_3                     no NaNs\n",
      "T3.F_4                     no NaNs\n",
      "T3.F_5                     no NaNs\n",
      "T3.F_6                     no NaNs\n",
      "T3.O_0                     no NaNs\n",
      "T3.O_1                     no NaNs\n",
      "T3.O_2                     no NaNs\n",
      "T3.O_3                     no NaNs\n",
      "T3.O_4                     no NaNs\n",
      "T3.O_5                     no NaNs\n",
      "T3.O_6                     no NaNs\n",
      "T3.O_7                     no NaNs\n",
      "T3.O_8                     no NaNs\n",
      "T3.RD_0                    no NaNs\n",
      "T3.Q_0                     no NaNs\n",
      "T3.Q_1                     no NaNs\n",
      "T4.R_0                     no NaNs\n",
      "T4.DF_0                    no NaNs\n",
      "T4.T_0                     no NaNs\n",
      "T4.TG_0                    no NaNs\n",
      "T4.W_0                     no NaNs\n",
      "T4.S_0                     no NaNs\n",
      "T4.A_0                     no NaNs\n",
      "T4.F_0                     no NaNs\n",
      "T4.F_1                     no NaNs\n",
      "T4.F_2                     no NaNs\n",
      "T4.F_3                     no NaNs\n",
      "T4.F_4                     no NaNs\n",
      "T4.F_5                     no NaNs\n",
      "T4.F_6                     no NaNs\n",
      "T4.O_0                     no NaNs\n",
      "T4.O_1                     no NaNs\n",
      "T4.O_2                     no NaNs\n",
      "T4.O_3                     no NaNs\n",
      "T4.O_4                     no NaNs\n",
      "T4.RD_0                    no NaNs\n",
      "T4.Q_0                     no NaNs\n",
      "T4.Q_1                     no NaNs\n",
      "T5.R_0                     no NaNs\n",
      "T5.DF_0                    no NaNs\n",
      "T5.T_0                     no NaNs\n",
      "T5.TG_0                    no NaNs\n",
      "T5.W_0                     no NaNs\n",
      "T5.S_0                     no NaNs\n",
      "T5.A_0                     no NaNs\n",
      "T5.F_0                     no NaNs\n",
      "T5.F_1                     no NaNs\n",
      "T5.F_2                     no NaNs\n",
      "T5.F_3                     no NaNs\n",
      "T5.F_4                     no NaNs\n",
      "T5.F_5                     no NaNs\n",
      "T5.F_6                     no NaNs\n",
      "T5.O_0                     no NaNs\n",
      "T5.O_1                     no NaNs\n",
      "T5.O_2                     no NaNs\n",
      "T5.O_3                     no NaNs\n",
      "T5.O_4                     no NaNs\n",
      "T5.RD_0                    no NaNs\n",
      "T5.Q_0                     no NaNs\n",
      "T5.Q_1                     no NaNs\n",
      "T6.R_0                     no NaNs\n",
      "T6.DF_0                    no NaNs\n",
      "T6.T_0                     no NaNs\n",
      "T6.TG_0                    no NaNs\n",
      "T6.W_0                     no NaNs\n",
      "T6.S_0                     no NaNs\n",
      "T6.A_0                     no NaNs\n",
      "T6.F_0                     no NaNs\n",
      "T6.F_1                     no NaNs\n",
      "T6.F_2                     no NaNs\n",
      "T6.F_3                     no NaNs\n",
      "T6.F_4                     no NaNs\n",
      "T6.F_5                     no NaNs\n",
      "T6.F_6                     no NaNs\n",
      "T6.O_0                     no NaNs\n",
      "T6.O_1                     no NaNs\n",
      "T6.O_2                     no NaNs\n",
      "T6.O_3                     no NaNs\n",
      "T6.O_4                     no NaNs\n",
      "T6.RD_0                    no NaNs\n",
      "T6.Q_0                     no NaNs\n",
      "T6.Q_1                     no NaNs\n",
      "T7.R_0                     no NaNs\n",
      "T7.DF_0                    no NaNs\n",
      "T7.T_0                     no NaNs\n",
      "T7.TG_0                    no NaNs\n",
      "T7.W_0                     no NaNs\n",
      "T7.S_0                     no NaNs\n",
      "T7.A_0                     no NaNs\n",
      "T7.F_0                     no NaNs\n",
      "T7.F_1                     no NaNs\n",
      "T7.F_2                     no NaNs\n",
      "T7.F_3                     no NaNs\n",
      "T7.F_4                     no NaNs\n",
      "T7.F_5                     no NaNs\n",
      "T7.F_6                     no NaNs\n",
      "T7.O_0                     no NaNs\n",
      "T7.O_1                     no NaNs\n",
      "T7.O_2                     no NaNs\n",
      "T7.O_3                     no NaNs\n",
      "T7.O_4                     no NaNs\n",
      "T7.RD_0                    no NaNs\n",
      "T7.Q_0                     no NaNs\n",
      "T7.Q_1                     no NaNs\n",
      "U1.R_0                     no NaNs\n",
      "U1.DF_0                    no NaNs\n",
      "U1.T_0                     no NaNs\n",
      "U1.TG_0                    no NaNs\n",
      "U1.IPL_0                   no NaNs\n",
      "U1.UN_0                    no NaNs\n",
      "U1.RIPL_0                  no NaNs\n",
      "U1.RIPL_1                  no NaNs\n",
      "U1.RID_0                   no NaNs\n",
      "U1.RID_1                   no NaNs\n",
      "U1.RIPCK_0                 no NaNs\n",
      "U1.RUCK_0                  no NaNs\n",
      "U1.RUCK_1                  no NaNs\n",
      "U1.RUD_0                   no NaNs\n",
      "IE.R_0                     no NaNs\n",
      "IE.DFI_0                   no NaNs\n",
      "IE.T_0                     no NaNs\n",
      "IE.TG_0                    no NaNs\n",
      "IE.CD_0                    no NaNs\n",
      "IE.CD_1                    no NaNs\n"
     ]
    }
   ],
   "source": [
    "my_show_df_NaNs(df)"
   ]
  },
  {
   "cell_type": "code",
   "execution_count": 47,
   "metadata": {},
   "outputs": [
    {
     "data": {
      "text/html": [
       "<div>\n",
       "<style scoped>\n",
       "    .dataframe tbody tr th:only-of-type {\n",
       "        vertical-align: middle;\n",
       "    }\n",
       "\n",
       "    .dataframe tbody tr th {\n",
       "        vertical-align: top;\n",
       "    }\n",
       "\n",
       "    .dataframe thead th {\n",
       "        text-align: right;\n",
       "    }\n",
       "</style>\n",
       "<table border=\"1\" class=\"dataframe\">\n",
       "  <thead>\n",
       "    <tr style=\"text-align: right;\">\n",
       "      <th></th>\n",
       "      <th>SEQ.SP_0</th>\n",
       "      <th>SEQ.GCD_0</th>\n",
       "      <th>SEQ.ISR_0</th>\n",
       "      <th>SEQ.TI_1</th>\n",
       "      <th>SEQ.CI_1</th>\n",
       "      <th>SEQ.II_1</th>\n",
       "      <th>SEQ.TS_1</th>\n",
       "      <th>WIN.W1_0</th>\n",
       "      <th>WIN.W2_0</th>\n",
       "      <th>WIN.W3_0</th>\n",
       "      <th>...</th>\n",
       "      <th>U1.T_0</th>\n",
       "      <th>U1.TG_0</th>\n",
       "      <th>U1.IPL_0</th>\n",
       "      <th>U1.UN_0</th>\n",
       "      <th>U1.RIPL_1</th>\n",
       "      <th>U1.RID_1</th>\n",
       "      <th>U1.RUCK_1</th>\n",
       "      <th>IE.T_0</th>\n",
       "      <th>IE.TG_0</th>\n",
       "      <th>IE.CD_1</th>\n",
       "    </tr>\n",
       "  </thead>\n",
       "  <tbody>\n",
       "    <tr>\n",
       "      <th>count</th>\n",
       "      <td>38817.000000</td>\n",
       "      <td>3.881700e+04</td>\n",
       "      <td>38817.000000</td>\n",
       "      <td>38817.0</td>\n",
       "      <td>38817.0</td>\n",
       "      <td>38817.0</td>\n",
       "      <td>38817.000000</td>\n",
       "      <td>38817.000000</td>\n",
       "      <td>38817.000000</td>\n",
       "      <td>38817.00000</td>\n",
       "      <td>...</td>\n",
       "      <td>38817.000000</td>\n",
       "      <td>38817.000000</td>\n",
       "      <td>38817.000000</td>\n",
       "      <td>38817.000000</td>\n",
       "      <td>38817.000000</td>\n",
       "      <td>38817.000000</td>\n",
       "      <td>38817.000000</td>\n",
       "      <td>38817.000000</td>\n",
       "      <td>38817.000000</td>\n",
       "      <td>38817.0</td>\n",
       "    </tr>\n",
       "    <tr>\n",
       "      <th>mean</th>\n",
       "      <td>229.078239</td>\n",
       "      <td>1.051560e+04</td>\n",
       "      <td>238.878017</td>\n",
       "      <td>-1.0</td>\n",
       "      <td>-1.0</td>\n",
       "      <td>-1.0</td>\n",
       "      <td>7.155653</td>\n",
       "      <td>36013.026123</td>\n",
       "      <td>35980.559703</td>\n",
       "      <td>35959.31785</td>\n",
       "      <td>...</td>\n",
       "      <td>98.947781</td>\n",
       "      <td>95.093026</td>\n",
       "      <td>223.415411</td>\n",
       "      <td>0.574310</td>\n",
       "      <td>-0.960198</td>\n",
       "      <td>491.078162</td>\n",
       "      <td>395.555684</td>\n",
       "      <td>96.426308</td>\n",
       "      <td>92.617230</td>\n",
       "      <td>-1.0</td>\n",
       "    </tr>\n",
       "    <tr>\n",
       "      <th>std</th>\n",
       "      <td>48.072854</td>\n",
       "      <td>4.170794e+05</td>\n",
       "      <td>41.669920</td>\n",
       "      <td>0.0</td>\n",
       "      <td>0.0</td>\n",
       "      <td>0.0</td>\n",
       "      <td>8.628940</td>\n",
       "      <td>26731.935978</td>\n",
       "      <td>26752.490486</td>\n",
       "      <td>26773.85675</td>\n",
       "      <td>...</td>\n",
       "      <td>473.844725</td>\n",
       "      <td>65.590233</td>\n",
       "      <td>743.172047</td>\n",
       "      <td>72.077082</td>\n",
       "      <td>3.506793</td>\n",
       "      <td>4608.897477</td>\n",
       "      <td>4147.959960</td>\n",
       "      <td>474.096111</td>\n",
       "      <td>67.377598</td>\n",
       "      <td>0.0</td>\n",
       "    </tr>\n",
       "    <tr>\n",
       "      <th>min</th>\n",
       "      <td>-1.000000</td>\n",
       "      <td>-1.000000e+00</td>\n",
       "      <td>-1.000000</td>\n",
       "      <td>-1.0</td>\n",
       "      <td>-1.0</td>\n",
       "      <td>-1.0</td>\n",
       "      <td>-1.000000</td>\n",
       "      <td>-1.000000</td>\n",
       "      <td>-1.000000</td>\n",
       "      <td>-1.00000</td>\n",
       "      <td>...</td>\n",
       "      <td>-1.000000</td>\n",
       "      <td>-1.000000</td>\n",
       "      <td>-1.000000</td>\n",
       "      <td>-1.000000</td>\n",
       "      <td>-1.000000</td>\n",
       "      <td>-1.000000</td>\n",
       "      <td>-1.000000</td>\n",
       "      <td>-1.000000</td>\n",
       "      <td>-1.000000</td>\n",
       "      <td>-1.0</td>\n",
       "    </tr>\n",
       "    <tr>\n",
       "      <th>25%</th>\n",
       "      <td>205.000000</td>\n",
       "      <td>2.000000e+00</td>\n",
       "      <td>209.000000</td>\n",
       "      <td>-1.0</td>\n",
       "      <td>-1.0</td>\n",
       "      <td>-1.0</td>\n",
       "      <td>0.000000</td>\n",
       "      <td>5792.000000</td>\n",
       "      <td>5792.000000</td>\n",
       "      <td>5792.00000</td>\n",
       "      <td>...</td>\n",
       "      <td>62.000000</td>\n",
       "      <td>64.000000</td>\n",
       "      <td>56.000000</td>\n",
       "      <td>0.000000</td>\n",
       "      <td>-1.000000</td>\n",
       "      <td>-1.000000</td>\n",
       "      <td>-1.000000</td>\n",
       "      <td>61.000000</td>\n",
       "      <td>64.000000</td>\n",
       "      <td>-1.0</td>\n",
       "    </tr>\n",
       "    <tr>\n",
       "      <th>50%</th>\n",
       "      <td>251.000000</td>\n",
       "      <td>4.000000e+00</td>\n",
       "      <td>259.000000</td>\n",
       "      <td>-1.0</td>\n",
       "      <td>-1.0</td>\n",
       "      <td>-1.0</td>\n",
       "      <td>7.000000</td>\n",
       "      <td>32768.000000</td>\n",
       "      <td>32768.000000</td>\n",
       "      <td>32768.00000</td>\n",
       "      <td>...</td>\n",
       "      <td>66.000000</td>\n",
       "      <td>64.000000</td>\n",
       "      <td>176.000000</td>\n",
       "      <td>0.000000</td>\n",
       "      <td>-1.000000</td>\n",
       "      <td>-1.000000</td>\n",
       "      <td>-1.000000</td>\n",
       "      <td>66.000000</td>\n",
       "      <td>64.000000</td>\n",
       "      <td>-1.0</td>\n",
       "    </tr>\n",
       "    <tr>\n",
       "      <th>75%</th>\n",
       "      <td>259.000000</td>\n",
       "      <td>5.000000e+00</td>\n",
       "      <td>266.000000</td>\n",
       "      <td>-1.0</td>\n",
       "      <td>-1.0</td>\n",
       "      <td>-1.0</td>\n",
       "      <td>10.000000</td>\n",
       "      <td>65535.000000</td>\n",
       "      <td>65535.000000</td>\n",
       "      <td>65535.00000</td>\n",
       "      <td>...</td>\n",
       "      <td>124.000000</td>\n",
       "      <td>128.000000</td>\n",
       "      <td>356.000000</td>\n",
       "      <td>0.000000</td>\n",
       "      <td>-1.000000</td>\n",
       "      <td>-1.000000</td>\n",
       "      <td>-1.000000</td>\n",
       "      <td>123.000000</td>\n",
       "      <td>128.000000</td>\n",
       "      <td>-1.0</td>\n",
       "    </tr>\n",
       "    <tr>\n",
       "      <th>max</th>\n",
       "      <td>486.000000</td>\n",
       "      <td>1.677722e+07</td>\n",
       "      <td>416.000000</td>\n",
       "      <td>-1.0</td>\n",
       "      <td>-1.0</td>\n",
       "      <td>-1.0</td>\n",
       "      <td>34.000000</td>\n",
       "      <td>65535.000000</td>\n",
       "      <td>65535.000000</td>\n",
       "      <td>65535.00000</td>\n",
       "      <td>...</td>\n",
       "      <td>65409.000000</td>\n",
       "      <td>255.000000</td>\n",
       "      <td>25601.000000</td>\n",
       "      <td>12294.000000</td>\n",
       "      <td>308.000000</td>\n",
       "      <td>65528.000000</td>\n",
       "      <td>65355.000000</td>\n",
       "      <td>65409.000000</td>\n",
       "      <td>255.000000</td>\n",
       "      <td>-1.0</td>\n",
       "    </tr>\n",
       "  </tbody>\n",
       "</table>\n",
       "<p>8 rows × 53 columns</p>\n",
       "</div>"
      ],
      "text/plain": [
       "           SEQ.SP_0     SEQ.GCD_0     SEQ.ISR_0  SEQ.TI_1  SEQ.CI_1  SEQ.II_1  \\\n",
       "count  38817.000000  3.881700e+04  38817.000000   38817.0   38817.0   38817.0   \n",
       "mean     229.078239  1.051560e+04    238.878017      -1.0      -1.0      -1.0   \n",
       "std       48.072854  4.170794e+05     41.669920       0.0       0.0       0.0   \n",
       "min       -1.000000 -1.000000e+00     -1.000000      -1.0      -1.0      -1.0   \n",
       "25%      205.000000  2.000000e+00    209.000000      -1.0      -1.0      -1.0   \n",
       "50%      251.000000  4.000000e+00    259.000000      -1.0      -1.0      -1.0   \n",
       "75%      259.000000  5.000000e+00    266.000000      -1.0      -1.0      -1.0   \n",
       "max      486.000000  1.677722e+07    416.000000      -1.0      -1.0      -1.0   \n",
       "\n",
       "           SEQ.TS_1      WIN.W1_0      WIN.W2_0     WIN.W3_0  ...  \\\n",
       "count  38817.000000  38817.000000  38817.000000  38817.00000  ...   \n",
       "mean       7.155653  36013.026123  35980.559703  35959.31785  ...   \n",
       "std        8.628940  26731.935978  26752.490486  26773.85675  ...   \n",
       "min       -1.000000     -1.000000     -1.000000     -1.00000  ...   \n",
       "25%        0.000000   5792.000000   5792.000000   5792.00000  ...   \n",
       "50%        7.000000  32768.000000  32768.000000  32768.00000  ...   \n",
       "75%       10.000000  65535.000000  65535.000000  65535.00000  ...   \n",
       "max       34.000000  65535.000000  65535.000000  65535.00000  ...   \n",
       "\n",
       "             U1.T_0       U1.TG_0      U1.IPL_0       U1.UN_0     U1.RIPL_1  \\\n",
       "count  38817.000000  38817.000000  38817.000000  38817.000000  38817.000000   \n",
       "mean      98.947781     95.093026    223.415411      0.574310     -0.960198   \n",
       "std      473.844725     65.590233    743.172047     72.077082      3.506793   \n",
       "min       -1.000000     -1.000000     -1.000000     -1.000000     -1.000000   \n",
       "25%       62.000000     64.000000     56.000000      0.000000     -1.000000   \n",
       "50%       66.000000     64.000000    176.000000      0.000000     -1.000000   \n",
       "75%      124.000000    128.000000    356.000000      0.000000     -1.000000   \n",
       "max    65409.000000    255.000000  25601.000000  12294.000000    308.000000   \n",
       "\n",
       "           U1.RID_1     U1.RUCK_1        IE.T_0       IE.TG_0  IE.CD_1  \n",
       "count  38817.000000  38817.000000  38817.000000  38817.000000  38817.0  \n",
       "mean     491.078162    395.555684     96.426308     92.617230     -1.0  \n",
       "std     4608.897477   4147.959960    474.096111     67.377598      0.0  \n",
       "min       -1.000000     -1.000000     -1.000000     -1.000000     -1.0  \n",
       "25%       -1.000000     -1.000000     61.000000     64.000000     -1.0  \n",
       "50%       -1.000000     -1.000000     66.000000     64.000000     -1.0  \n",
       "75%       -1.000000     -1.000000    123.000000    128.000000     -1.0  \n",
       "max    65528.000000  65355.000000  65409.000000    255.000000     -1.0  \n",
       "\n",
       "[8 rows x 53 columns]"
      ]
     },
     "execution_count": 47,
     "metadata": {},
     "output_type": "execute_result"
    }
   ],
   "source": [
    "df.describe()"
   ]
  },
  {
   "cell_type": "code",
   "execution_count": 48,
   "metadata": {},
   "outputs": [
    {
     "name": "stdout",
     "output_type": "stream",
     "text": [
      "<class 'pandas.core.frame.DataFrame'>\n",
      "RangeIndex: 38817 entries, 0 to 38816\n",
      "Columns: 263 entries, Class.vendor_0 to IE.CD_1\n",
      "dtypes: int64(53), object(210)\n",
      "memory usage: 472.1 MB\n"
     ]
    }
   ],
   "source": [
    "df.info(memory_usage='deep')"
   ]
  },
  {
   "cell_type": "markdown",
   "metadata": {},
   "source": [
    "#### Target Classes"
   ]
  },
  {
   "cell_type": "code",
   "execution_count": 49,
   "metadata": {},
   "outputs": [],
   "source": [
    "target = 'Class.OSfamily_0'\n",
    "# target = 'HTTP_Host_OS_Major_Version'\n",
    "# target = 'HTTP_Host_OS_Minor_Version'\n",
    "# target = 'HTTP_hostname'\n",
    "targets = ['Class.OSfamily_0', 'Class.OSgen_0']"
   ]
  },
  {
   "cell_type": "code",
   "execution_count": 50,
   "metadata": {},
   "outputs": [
    {
     "data": {
      "text/plain": [
       "Class.OSfamily_0\n",
       "Linux      16855\n",
       "Windows     8094\n",
       "macOS       4776\n",
       "iOS         4032\n",
       "BSD         3837\n",
       "Solaris      830\n",
       "Android      393\n",
       "Name: count, dtype: int64"
      ]
     },
     "execution_count": 50,
     "metadata": {},
     "output_type": "execute_result"
    }
   ],
   "source": [
    "df[target].value_counts()"
   ]
  },
  {
   "cell_type": "markdown",
   "metadata": {
    "slideshow": {
     "slide_type": "skip"
    }
   },
   "source": [
    "#### Histogram"
   ]
  },
  {
   "cell_type": "code",
   "execution_count": 51,
   "metadata": {},
   "outputs": [
    {
     "data": {
      "image/png": "[encoded data removed]",
      "text/plain": [
       "<Figure size 640x480 with 1 Axes>"
      ]
     },
     "metadata": {},
     "output_type": "display_data"
    },
    {
     "data": {
      "image/png": "[encoded data removed]",
      "text/plain": [
       "<Figure size 640x480 with 1 Axes>"
      ]
     },
     "metadata": {},
     "output_type": "display_data"
    }
   ],
   "source": [
    "for column in targets:\n",
    "    plt.xticks(rotation=0)\n",
    "    sns.countplot(y=column, data=df)\n",
    "    plt.show()"
   ]
  },
  {
   "cell_type": "code",
   "execution_count": 52,
   "metadata": {},
   "outputs": [
    {
     "data": {
      "text/plain": [
       "<Axes: xlabel='count'>"
      ]
     },
     "execution_count": 52,
     "metadata": {},
     "output_type": "execute_result"
    },
    {
     "data": {
      "image/png": "[encoded data removed]",
      "text/plain": [
       "<Figure size 640x480 with 1 Axes>"
      ]
     },
     "metadata": {},
     "output_type": "display_data"
    }
   ],
   "source": [
    "df_hist = df[targets[0]] + \" \" + df[targets[1]].astype(str)\n",
    "top_10_values = df_hist.value_counts().head(15)\n",
    "df_hist = df_hist[df_hist.isin(top_10_values.index)]\n",
    "sns.countplot(data=df_hist)"
   ]
  },
  {
   "cell_type": "code",
   "execution_count": 53,
   "metadata": {},
   "outputs": [],
   "source": [
    "df_family = df[targets[0]]\n",
    "df_minor = df[targets[0]] + \" \" + df[targets[1]].astype(str)"
   ]
  },
  {
   "cell_type": "code",
   "execution_count": 54,
   "metadata": {},
   "outputs": [
    {
     "data": {
      "text/plain": [
       "(7, 91)"
      ]
     },
     "execution_count": 54,
     "metadata": {},
     "output_type": "execute_result"
    }
   ],
   "source": [
    "df_family.nunique(), df_minor.nunique()"
   ]
  },
  {
   "cell_type": "code",
   "execution_count": 24,
   "metadata": {},
   "outputs": [],
   "source": [
    "# df_hist = df[targets[0]] + \" \" + df[targets[1]].astype(str) + \" \" + df[targets[2]].astype(str)\n",
    "# top_10_values = df_hist.value_counts().head(15)\n",
    "# df_hist = df_hist[df_hist.isin(top_10_values.index)]\n",
    "# sns.countplot(data=df_hist)"
   ]
  },
  {
   "cell_type": "markdown",
   "metadata": {},
   "source": [
    "### Preprocessing"
   ]
  },
  {
   "cell_type": "code",
   "execution_count": 25,
   "metadata": {},
   "outputs": [
    {
     "name": "stdout",
     "output_type": "stream",
     "text": [
      "Number of examples/rows: 38,817\n",
      "Number of features: 263\n"
     ]
    }
   ],
   "source": [
    "my_show_df_shape(df)"
   ]
  },
  {
   "cell_type": "code",
   "execution_count": 26,
   "metadata": {},
   "outputs": [],
   "source": [
    "df.dropna(subset=target, inplace=True)"
   ]
  },
  {
   "cell_type": "code",
   "execution_count": 27,
   "metadata": {},
   "outputs": [
    {
     "name": "stdout",
     "output_type": "stream",
     "text": [
      "Number of examples/rows: 38,817\n",
      "Number of features: 263\n"
     ]
    }
   ],
   "source": [
    "my_show_df_shape(df)"
   ]
  },
  {
   "cell_type": "code",
   "execution_count": 28,
   "metadata": {},
   "outputs": [],
   "source": [
    "df['OS target'] = df[targets[0]] + \" \" + df[targets[1]].astype(str)\n",
    "df.drop(targets, axis=1, inplace=True)\n",
    "target = 'OS target'"
   ]
  },
  {
   "cell_type": "code",
   "execution_count": 29,
   "metadata": {},
   "outputs": [
    {
     "name": "stdout",
     "output_type": "stream",
     "text": [
      "Number of examples/rows: 38,817\n",
      "Number of features: 262\n"
     ]
    }
   ],
   "source": [
    "my_show_df_shape(df)"
   ]
  },
  {
   "cell_type": "code",
   "execution_count": 30,
   "metadata": {},
   "outputs": [
    {
     "ename": "KeyError",
     "evalue": "\"['flow_ID', 'UA OS patch', 'UA OS patch minor', 'ICMP TYPE', 'TLS_ALPN', 'TLS_ISSUER_CN', 'TLS_SUBJECT_CN', 'TLS_SUBJECT_ON', 'Unnamed: 111'] not found in axis\"",
     "output_type": "error",
     "traceback": [
      "\u001b[1;31m---------------------------------------------------------------------------\u001b[0m",
      "\u001b[1;31mKeyError\u001b[0m                                  Traceback (most recent call last)",
      "Cell \u001b[1;32mIn[30], line 13\u001b[0m\n\u001b[0;32m      1\u001b[0m drop_columns \u001b[38;5;241m=\u001b[39m [\n\u001b[0;32m      2\u001b[0m     \u001b[38;5;124m\"\u001b[39m\u001b[38;5;124mflow_ID\u001b[39m\u001b[38;5;124m\"\u001b[39m,\n\u001b[0;32m      3\u001b[0m     \u001b[38;5;124m\"\u001b[39m\u001b[38;5;124mUA OS patch\u001b[39m\u001b[38;5;124m\"\u001b[39m,\n\u001b[1;32m   (...)\u001b[0m\n\u001b[0;32m     10\u001b[0m     \u001b[38;5;124m\"\u001b[39m\u001b[38;5;124mUnnamed: 111\u001b[39m\u001b[38;5;124m\"\u001b[39m\n\u001b[0;32m     11\u001b[0m ]\n\u001b[1;32m---> 13\u001b[0m \u001b[43mdf\u001b[49m\u001b[38;5;241;43m.\u001b[39;49m\u001b[43mdrop\u001b[49m\u001b[43m(\u001b[49m\u001b[43mcolumns\u001b[49m\u001b[38;5;241;43m=\u001b[39;49m\u001b[43mdrop_columns\u001b[49m\u001b[43m,\u001b[49m\u001b[43m \u001b[49m\u001b[43minplace\u001b[49m\u001b[38;5;241;43m=\u001b[39;49m\u001b[38;5;28;43;01mTrue\u001b[39;49;00m\u001b[43m)\u001b[49m\n",
      "File \u001b[1;32mc:\\Users\\ruben\\Python-Environments\\venv-munics-tfm\\lib\\site-packages\\pandas\\core\\frame.py:5581\u001b[0m, in \u001b[0;36mDataFrame.drop\u001b[1;34m(self, labels, axis, index, columns, level, inplace, errors)\u001b[0m\n\u001b[0;32m   5433\u001b[0m \u001b[38;5;28;01mdef\u001b[39;00m \u001b[38;5;21mdrop\u001b[39m(\n\u001b[0;32m   5434\u001b[0m     \u001b[38;5;28mself\u001b[39m,\n\u001b[0;32m   5435\u001b[0m     labels: IndexLabel \u001b[38;5;241m|\u001b[39m \u001b[38;5;28;01mNone\u001b[39;00m \u001b[38;5;241m=\u001b[39m \u001b[38;5;28;01mNone\u001b[39;00m,\n\u001b[1;32m   (...)\u001b[0m\n\u001b[0;32m   5442\u001b[0m     errors: IgnoreRaise \u001b[38;5;241m=\u001b[39m \u001b[38;5;124m\"\u001b[39m\u001b[38;5;124mraise\u001b[39m\u001b[38;5;124m\"\u001b[39m,\n\u001b[0;32m   5443\u001b[0m ) \u001b[38;5;241m-\u001b[39m\u001b[38;5;241m>\u001b[39m DataFrame \u001b[38;5;241m|\u001b[39m \u001b[38;5;28;01mNone\u001b[39;00m:\n\u001b[0;32m   5444\u001b[0m \u001b[38;5;250m    \u001b[39m\u001b[38;5;124;03m\"\"\"\u001b[39;00m\n\u001b[0;32m   5445\u001b[0m \u001b[38;5;124;03m    Drop specified labels from rows or columns.\u001b[39;00m\n\u001b[0;32m   5446\u001b[0m \n\u001b[1;32m   (...)\u001b[0m\n\u001b[0;32m   5579\u001b[0m \u001b[38;5;124;03m            weight  1.0     0.8\u001b[39;00m\n\u001b[0;32m   5580\u001b[0m \u001b[38;5;124;03m    \"\"\"\u001b[39;00m\n\u001b[1;32m-> 5581\u001b[0m     \u001b[38;5;28;01mreturn\u001b[39;00m \u001b[38;5;28;43msuper\u001b[39;49m\u001b[43m(\u001b[49m\u001b[43m)\u001b[49m\u001b[38;5;241;43m.\u001b[39;49m\u001b[43mdrop\u001b[49m\u001b[43m(\u001b[49m\n\u001b[0;32m   5582\u001b[0m \u001b[43m        \u001b[49m\u001b[43mlabels\u001b[49m\u001b[38;5;241;43m=\u001b[39;49m\u001b[43mlabels\u001b[49m\u001b[43m,\u001b[49m\n\u001b[0;32m   5583\u001b[0m \u001b[43m        \u001b[49m\u001b[43maxis\u001b[49m\u001b[38;5;241;43m=\u001b[39;49m\u001b[43maxis\u001b[49m\u001b[43m,\u001b[49m\n\u001b[0;32m   5584\u001b[0m \u001b[43m        \u001b[49m\u001b[43mindex\u001b[49m\u001b[38;5;241;43m=\u001b[39;49m\u001b[43mindex\u001b[49m\u001b[43m,\u001b[49m\n\u001b[0;32m   5585\u001b[0m \u001b[43m        \u001b[49m\u001b[43mcolumns\u001b[49m\u001b[38;5;241;43m=\u001b[39;49m\u001b[43mcolumns\u001b[49m\u001b[43m,\u001b[49m\n\u001b[0;32m   5586\u001b[0m \u001b[43m        \u001b[49m\u001b[43mlevel\u001b[49m\u001b[38;5;241;43m=\u001b[39;49m\u001b[43mlevel\u001b[49m\u001b[43m,\u001b[49m\n\u001b[0;32m   5587\u001b[0m \u001b[43m        \u001b[49m\u001b[43minplace\u001b[49m\u001b[38;5;241;43m=\u001b[39;49m\u001b[43minplace\u001b[49m\u001b[43m,\u001b[49m\n\u001b[0;32m   5588\u001b[0m \u001b[43m        \u001b[49m\u001b[43merrors\u001b[49m\u001b[38;5;241;43m=\u001b[39;49m\u001b[43merrors\u001b[49m\u001b[43m,\u001b[49m\n\u001b[0;32m   5589\u001b[0m \u001b[43m    \u001b[49m\u001b[43m)\u001b[49m\n",
      "File \u001b[1;32mc:\\Users\\ruben\\Python-Environments\\venv-munics-tfm\\lib\\site-packages\\pandas\\core\\generic.py:4788\u001b[0m, in \u001b[0;36mNDFrame.drop\u001b[1;34m(self, labels, axis, index, columns, level, inplace, errors)\u001b[0m\n\u001b[0;32m   4786\u001b[0m \u001b[38;5;28;01mfor\u001b[39;00m axis, labels \u001b[38;5;129;01min\u001b[39;00m axes\u001b[38;5;241m.\u001b[39mitems():\n\u001b[0;32m   4787\u001b[0m     \u001b[38;5;28;01mif\u001b[39;00m labels \u001b[38;5;129;01mis\u001b[39;00m \u001b[38;5;129;01mnot\u001b[39;00m \u001b[38;5;28;01mNone\u001b[39;00m:\n\u001b[1;32m-> 4788\u001b[0m         obj \u001b[38;5;241m=\u001b[39m \u001b[43mobj\u001b[49m\u001b[38;5;241;43m.\u001b[39;49m\u001b[43m_drop_axis\u001b[49m\u001b[43m(\u001b[49m\u001b[43mlabels\u001b[49m\u001b[43m,\u001b[49m\u001b[43m \u001b[49m\u001b[43maxis\u001b[49m\u001b[43m,\u001b[49m\u001b[43m \u001b[49m\u001b[43mlevel\u001b[49m\u001b[38;5;241;43m=\u001b[39;49m\u001b[43mlevel\u001b[49m\u001b[43m,\u001b[49m\u001b[43m \u001b[49m\u001b[43merrors\u001b[49m\u001b[38;5;241;43m=\u001b[39;49m\u001b[43merrors\u001b[49m\u001b[43m)\u001b[49m\n\u001b[0;32m   4790\u001b[0m \u001b[38;5;28;01mif\u001b[39;00m inplace:\n\u001b[0;32m   4791\u001b[0m     \u001b[38;5;28mself\u001b[39m\u001b[38;5;241m.\u001b[39m_update_inplace(obj)\n",
      "File \u001b[1;32mc:\\Users\\ruben\\Python-Environments\\venv-munics-tfm\\lib\\site-packages\\pandas\\core\\generic.py:4830\u001b[0m, in \u001b[0;36mNDFrame._drop_axis\u001b[1;34m(self, labels, axis, level, errors, only_slice)\u001b[0m\n\u001b[0;32m   4828\u001b[0m         new_axis \u001b[38;5;241m=\u001b[39m axis\u001b[38;5;241m.\u001b[39mdrop(labels, level\u001b[38;5;241m=\u001b[39mlevel, errors\u001b[38;5;241m=\u001b[39merrors)\n\u001b[0;32m   4829\u001b[0m     \u001b[38;5;28;01melse\u001b[39;00m:\n\u001b[1;32m-> 4830\u001b[0m         new_axis \u001b[38;5;241m=\u001b[39m \u001b[43maxis\u001b[49m\u001b[38;5;241;43m.\u001b[39;49m\u001b[43mdrop\u001b[49m\u001b[43m(\u001b[49m\u001b[43mlabels\u001b[49m\u001b[43m,\u001b[49m\u001b[43m \u001b[49m\u001b[43merrors\u001b[49m\u001b[38;5;241;43m=\u001b[39;49m\u001b[43merrors\u001b[49m\u001b[43m)\u001b[49m\n\u001b[0;32m   4831\u001b[0m     indexer \u001b[38;5;241m=\u001b[39m axis\u001b[38;5;241m.\u001b[39mget_indexer(new_axis)\n\u001b[0;32m   4833\u001b[0m \u001b[38;5;66;03m# Case for non-unique axis\u001b[39;00m\n\u001b[0;32m   4834\u001b[0m \u001b[38;5;28;01melse\u001b[39;00m:\n",
      "File \u001b[1;32mc:\\Users\\ruben\\Python-Environments\\venv-munics-tfm\\lib\\site-packages\\pandas\\core\\indexes\\base.py:7070\u001b[0m, in \u001b[0;36mIndex.drop\u001b[1;34m(self, labels, errors)\u001b[0m\n\u001b[0;32m   7068\u001b[0m \u001b[38;5;28;01mif\u001b[39;00m mask\u001b[38;5;241m.\u001b[39many():\n\u001b[0;32m   7069\u001b[0m     \u001b[38;5;28;01mif\u001b[39;00m errors \u001b[38;5;241m!=\u001b[39m \u001b[38;5;124m\"\u001b[39m\u001b[38;5;124mignore\u001b[39m\u001b[38;5;124m\"\u001b[39m:\n\u001b[1;32m-> 7070\u001b[0m         \u001b[38;5;28;01mraise\u001b[39;00m \u001b[38;5;167;01mKeyError\u001b[39;00m(\u001b[38;5;124mf\u001b[39m\u001b[38;5;124m\"\u001b[39m\u001b[38;5;132;01m{\u001b[39;00mlabels[mask]\u001b[38;5;241m.\u001b[39mtolist()\u001b[38;5;132;01m}\u001b[39;00m\u001b[38;5;124m not found in axis\u001b[39m\u001b[38;5;124m\"\u001b[39m)\n\u001b[0;32m   7071\u001b[0m     indexer \u001b[38;5;241m=\u001b[39m indexer[\u001b[38;5;241m~\u001b[39mmask]\n\u001b[0;32m   7072\u001b[0m \u001b[38;5;28;01mreturn\u001b[39;00m \u001b[38;5;28mself\u001b[39m\u001b[38;5;241m.\u001b[39mdelete(indexer)\n",
      "\u001b[1;31mKeyError\u001b[0m: \"['flow_ID', 'UA OS patch', 'UA OS patch minor', 'ICMP TYPE', 'TLS_ALPN', 'TLS_ISSUER_CN', 'TLS_SUBJECT_CN', 'TLS_SUBJECT_ON', 'Unnamed: 111'] not found in axis\""
     ]
    }
   ],
   "source": [
    "drop_columns = [\n",
    "    \"flow_ID\",\n",
    "    \"UA OS patch\",\n",
    "    \"UA OS patch minor\",\n",
    "    \"ICMP TYPE\",\n",
    "    \"TLS_ALPN\",\n",
    "    \"TLS_ISSUER_CN\",\n",
    "    \"TLS_SUBJECT_CN\",\n",
    "    \"TLS_SUBJECT_ON\",\n",
    "    \"Unnamed: 111\"\n",
    "]\n",
    "\n",
    "df.drop(columns=drop_columns, inplace=True)"
   ]
  },
  {
   "cell_type": "code",
   "execution_count": null,
   "metadata": {},
   "outputs": [],
   "source": [
    "my_show_df_shape(df)"
   ]
  },
  {
   "cell_type": "code",
   "execution_count": null,
   "metadata": {},
   "outputs": [],
   "source": [
    "drop_nans_rows = [\n",
    "    \"TCP SYN Size\",\n",
    "    \"TCP Win Size\"\n",
    "]\n",
    "\n",
    "df.dropna(subset=drop_nans_rows, \n",
    "          inplace=True)"
   ]
  },
  {
   "cell_type": "code",
   "execution_count": null,
   "metadata": {},
   "outputs": [],
   "source": [
    "my_show_df_shape(df)"
   ]
  },
  {
   "cell_type": "code",
   "execution_count": null,
   "metadata": {},
   "outputs": [],
   "source": [
    "my_show_df_NaNs(df)"
   ]
  },
  {
   "cell_type": "code",
   "execution_count": null,
   "metadata": {},
   "outputs": [],
   "source": [
    "df.loc[df[target].str.contains('Other', na=False), target] = 'Other'"
   ]
  },
  {
   "cell_type": "code",
   "execution_count": null,
   "metadata": {},
   "outputs": [],
   "source": [
    "df.loc[df[target].str.contains('iOS', na=False), target] = 'iOS'"
   ]
  },
  {
   "cell_type": "code",
   "execution_count": null,
   "metadata": {},
   "outputs": [],
   "source": [
    "df.loc[df[target].str.contains('Android', na=False), target] = 'Android'"
   ]
  },
  {
   "cell_type": "code",
   "execution_count": null,
   "metadata": {},
   "outputs": [],
   "source": [
    "df.loc[df[target].str.contains('Mac OS X', na=False), target] = 'Mac OS X'"
   ]
  },
  {
   "cell_type": "code",
   "execution_count": null,
   "metadata": {},
   "outputs": [],
   "source": [
    "# df.loc[df[target].str.contains('Chrome OS', na=False), target] = 'Chrome OS'"
   ]
  },
  {
   "cell_type": "code",
   "execution_count": null,
   "metadata": {},
   "outputs": [],
   "source": [
    "df.loc[df[target].str.contains('Windows (?!10|7)', regex=True, na=False), target] = 'Windows O'"
   ]
  },
  {
   "cell_type": "code",
   "execution_count": null,
   "metadata": {},
   "outputs": [],
   "source": [
    "df.loc[~df[target].str.contains('(Windows|Android|iOS|Mac|Other)', regex=True, na=False), target] = 'Linux'"
   ]
  },
  {
   "cell_type": "code",
   "execution_count": null,
   "metadata": {},
   "outputs": [],
   "source": [
    "df[target].value_counts()"
   ]
  },
  {
   "cell_type": "code",
   "execution_count": null,
   "metadata": {},
   "outputs": [],
   "source": [
    "df.drop_duplicates(inplace=True)"
   ]
  },
  {
   "cell_type": "code",
   "execution_count": null,
   "metadata": {},
   "outputs": [],
   "source": [
    "top = 30\n",
    "\n",
    "top_values = df[target].value_counts().head(top)\n",
    "\n",
    "plt.xticks(rotation=0)\n",
    "sns.countplot(y=target, data=df[df[target].isin(top_values.index)], order=top_values.index.sort_values())\n",
    "plt.show()\n",
    "\n",
    "plt.xticks(rotation=0)\n",
    "sns.countplot(y=target, data=df[df[target].isin(top_values.index)], order=top_values.index)\n",
    "plt.show()"
   ]
  },
  {
   "cell_type": "code",
   "execution_count": null,
   "metadata": {},
   "outputs": [],
   "source": [
    "plt.xticks(rotation=0)\n",
    "ax = sns.countplot(y=target, data=df[df[target].isin(top_values.index)], order=top_values.index.sort_values())\n",
    "for p in ax.patches:\n",
    "    ax.annotate(str(p.get_width()), (p.get_width(), p.get_y() + p.get_height() / 2), ha='left', va='center')\n",
    "plt.show()\n",
    "\n",
    "plt.xticks(rotation=0)\n",
    "ax = sns.countplot(y=target, data=df[df[target].isin(top_values.index)], order=top_values.index)\n",
    "for p in ax.patches:\n",
    "    ax.annotate(str(p.get_width()), (p.get_width(), p.get_y() + p.get_height() / 2), ha='left', va='center')\n",
    "plt.show()"
   ]
  },
  {
   "cell_type": "code",
   "execution_count": null,
   "metadata": {},
   "outputs": [],
   "source": [
    "numeric_columns = df.select_dtypes(include=['float', 'int'])\n",
    "low_variance_columns = numeric_columns.columns[numeric_columns.var() <= 0]\n",
    "print(low_variance_columns)\n",
    "df.drop(columns=low_variance_columns, inplace=True)"
   ]
  },
  {
   "cell_type": "code",
   "execution_count": null,
   "metadata": {},
   "outputs": [],
   "source": [
    "import openpyxl\n",
    "\n",
    "description = df.describe()\n",
    "description.to_excel('description.xlsx', index=True)"
   ]
  },
  {
   "cell_type": "code",
   "execution_count": null,
   "metadata": {},
   "outputs": [],
   "source": [
    "my_show_df_NaNs(df)"
   ]
  },
  {
   "cell_type": "code",
   "execution_count": null,
   "metadata": {},
   "outputs": [],
   "source": [
    "df[\"NPM_CLIENT_NETWORK_TIME\"].value_counts()"
   ]
  },
  {
   "cell_type": "markdown",
   "metadata": {},
   "source": [
    "### Split"
   ]
  },
  {
   "cell_type": "raw",
   "metadata": {
    "vscode": {
     "languageId": "raw"
    }
   },
   "source": [
    "# Split the dataset into training and testing sets\n",
    "\n",
    "X = df.drop('target_column', axis=1)  # Features\n",
    "y = df['target_column']  # Target variable"
   ]
  }
 ],
 "metadata": {
  "interpreter": {
   "hash": "79c990d43e9044a7289f568bd6e831504df6bfea29362bee0271b5fc85673147"
  },
  "kernelspec": {
   "display_name": "Python 3.8.10 64-bit ('.venv': venv)",
   "name": "python3"
  },
  "language_info": {
   "codemirror_mode": {
    "name": "ipython",
    "version": 3
   },
   "file_extension": ".py",
   "mimetype": "text/x-python",
   "name": "python",
   "nbconvert_exporter": "python",
   "pygments_lexer": "ipython3",
   "version": "3.10.8"
  }
 },
 "nbformat": 4,
 "nbformat_minor": 2
}

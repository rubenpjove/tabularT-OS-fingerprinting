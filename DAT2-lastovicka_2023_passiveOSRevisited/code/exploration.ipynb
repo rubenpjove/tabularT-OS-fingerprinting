{
 "cells": [
  {
   "cell_type": "code",
   "execution_count": 51,
   "metadata": {},
   "outputs": [],
   "source": [
    "import random\n",
    "import pandas as pd\n",
    "from pandas.plotting import scatter_matrix\n",
    "import matplotlib.pyplot as plt\n",
    "import seaborn as sns\n",
    "\n",
    "sns.set(color_codes=True)\n",
    "%matplotlib inline"
   ]
  },
  {
   "cell_type": "code",
   "execution_count": 52,
   "metadata": {},
   "outputs": [],
   "source": [
    "seed = 42\n",
    "random.seed(seed)"
   ]
  },
  {
   "cell_type": "markdown",
   "metadata": {},
   "source": [
    "### Functions Definitions"
   ]
  },
  {
   "cell_type": "code",
   "execution_count": 53,
   "metadata": {},
   "outputs": [],
   "source": [
    "def my_show_df_shape(df):\n",
    "    print(\"Number of examples/rows: {:,}\".format(df.shape[0]))\n",
    "    print(\"Number of features: {:,}\".format(df.shape[1]))"
   ]
  },
  {
   "cell_type": "code",
   "execution_count": 54,
   "metadata": {},
   "outputs": [],
   "source": [
    "def my_show_df_NaNs(df):\n",
    "    nan_count = df.isna().sum()\n",
    "    # nan_count = nan_count[nan_count > 0]\n",
    "    nan_percentage = df.isna().mean() * 100\n",
    "    # nan_percentage = nan_percentage[nan_percentage > 0]\n",
    "    length = 0\n",
    "    for i in nan_count.index: \n",
    "        if len(i) > length:\n",
    "            length = len(i) \n",
    "    if nan_count.empty:\n",
    "        print(\"No NaN values found in the dataset.\")\n",
    "    else:\n",
    "        print(\"Number of examples/rows:\", df.shape[0])\n",
    "        print(\"Number of features:\", df.shape[1])\n",
    "        print(\"Features with NaNs:\")\n",
    "        for i in range(len(nan_count)):\n",
    "            feature = nan_count.index[i]\n",
    "            if nan_count[feature] > 0:\n",
    "                print(f\"{feature:<{length+5}} {nan_count[feature]:<10} {nan_percentage[feature]:<8.4f}%\")\n",
    "            else:\n",
    "                print(f\"{feature:<{length+10}} no NaNs\")"
   ]
  },
  {
   "cell_type": "code",
   "execution_count": 55,
   "metadata": {},
   "outputs": [],
   "source": [
    "def my_show_df(df):\n",
    "    nan_count = df.isna().sum()\n",
    "    # nan_count = nan_count[nan_count > 0]\n",
    "    nan_percentage = df.isna().mean() * 100\n",
    "    # nan_percentage = nan_percentage[nan_percentage > 0]\n",
    "    length = 0\n",
    "    for i in nan_count.index: \n",
    "        if len(i) > length:\n",
    "            length = len(i) \n",
    "    if nan_count.empty:\n",
    "        print(\"No NaN values found in the dataset.\")\n",
    "    else:\n",
    "        print(\"Number of examples/rows:\", df.shape[0])\n",
    "        print(\"Number of features:\", df.shape[1])\n",
    "        print(\"Features with NaNs:\")\n",
    "        for i in range(len(nan_count)):\n",
    "            feature = nan_count.index[i]\n",
    "            if nan_count[feature] > 0:\n",
    "                print(f\"{feature:<{length+5}} {nan_count[feature]:<10} {nan_percentage[feature]:<8.4f}%\")\n",
    "            else:\n",
    "                print(f\"{feature:<{length+10}} no NaNs\")"
   ]
  },
  {
   "cell_type": "markdown",
   "metadata": {},
   "source": [
    "### Dataset Load"
   ]
  },
  {
   "cell_type": "code",
   "execution_count": 56,
   "metadata": {},
   "outputs": [],
   "source": [
    "# Load the dataset\n",
    "\n",
    "filename = '../dataset/lastovicka_2023_passiveOSRevisited.csv'\n",
    "# p = 0.1  # 10% of the lines - Around 4M rows\n",
    "# p = 0.0025  # 0,25% of the lines - Around 100k rows\n",
    "df = pd.read_csv(\n",
    "         filename,\n",
    "         header=0,\n",
    "         sep=';',\n",
    "        #  skiprows=lambda i: i>0 and random.random() > p\n",
    ")"
   ]
  },
  {
   "cell_type": "code",
   "execution_count": 57,
   "metadata": {},
   "outputs": [],
   "source": [
    "df = df"
   ]
  },
  {
   "cell_type": "markdown",
   "metadata": {
    "tags": [
     "parameters"
    ]
   },
   "source": [
    "### Initial Exploration"
   ]
  },
  {
   "cell_type": "code",
   "execution_count": 58,
   "metadata": {
    "slideshow": {
     "slide_type": "skip"
    }
   },
   "outputs": [
    {
     "data": {
      "text/html": [
       "<div>\n",
       "<style scoped>\n",
       "    .dataframe tbody tr th:only-of-type {\n",
       "        vertical-align: middle;\n",
       "    }\n",
       "\n",
       "    .dataframe tbody tr th {\n",
       "        vertical-align: top;\n",
       "    }\n",
       "\n",
       "    .dataframe thead th {\n",
       "        text-align: right;\n",
       "    }\n",
       "</style>\n",
       "<table border=\"1\" class=\"dataframe\">\n",
       "  <thead>\n",
       "    <tr style=\"text-align: right;\">\n",
       "      <th></th>\n",
       "      <th>flow_ID</th>\n",
       "      <th>UA OS family</th>\n",
       "      <th>UA OS major</th>\n",
       "      <th>UA OS minor</th>\n",
       "      <th>UA OS patch</th>\n",
       "      <th>UA OS patch minor</th>\n",
       "      <th>start</th>\n",
       "      <th>end</th>\n",
       "      <th>L3 PROTO</th>\n",
       "      <th>L4 PROTO</th>\n",
       "      <th>...</th>\n",
       "      <th>tcpOptionMaximumSegmentSizeforward</th>\n",
       "      <th>tcpOptionMaximumSegmentSizebackward</th>\n",
       "      <th>tcpOptionNoOperationforward</th>\n",
       "      <th>tcpOptionNoOperationbackward</th>\n",
       "      <th>packetTotalCountforward</th>\n",
       "      <th>packetTotalCountbackward</th>\n",
       "      <th>flowDirection</th>\n",
       "      <th>flowEndReason</th>\n",
       "      <th>synAckFlag</th>\n",
       "      <th>Unnamed: 111</th>\n",
       "    </tr>\n",
       "  </thead>\n",
       "  <tbody>\n",
       "    <tr>\n",
       "      <th>0</th>\n",
       "      <td>4313</td>\n",
       "      <td>Other</td>\n",
       "      <td>NaN</td>\n",
       "      <td>NaN</td>\n",
       "      <td>NaN</td>\n",
       "      <td>NaN</td>\n",
       "      <td>2020-07-16 06:44:07.608708000</td>\n",
       "      <td>2020-07-16 06:44:07.838529000</td>\n",
       "      <td>4</td>\n",
       "      <td>6</td>\n",
       "      <td>...</td>\n",
       "      <td>1460.0</td>\n",
       "      <td>1460</td>\n",
       "      <td>1</td>\n",
       "      <td>1</td>\n",
       "      <td>6</td>\n",
       "      <td>4</td>\n",
       "      <td>1</td>\n",
       "      <td>1</td>\n",
       "      <td>1</td>\n",
       "      <td>NaN</td>\n",
       "    </tr>\n",
       "    <tr>\n",
       "      <th>1</th>\n",
       "      <td>14343</td>\n",
       "      <td>Other</td>\n",
       "      <td>NaN</td>\n",
       "      <td>NaN</td>\n",
       "      <td>NaN</td>\n",
       "      <td>NaN</td>\n",
       "      <td>2020-07-16 06:45:47.865065000</td>\n",
       "      <td>2020-07-16 06:45:47.913409000</td>\n",
       "      <td>4</td>\n",
       "      <td>6</td>\n",
       "      <td>...</td>\n",
       "      <td>1460.0</td>\n",
       "      <td>1460</td>\n",
       "      <td>1</td>\n",
       "      <td>1</td>\n",
       "      <td>4</td>\n",
       "      <td>3</td>\n",
       "      <td>0</td>\n",
       "      <td>1</td>\n",
       "      <td>1</td>\n",
       "      <td>NaN</td>\n",
       "    </tr>\n",
       "    <tr>\n",
       "      <th>2</th>\n",
       "      <td>18958</td>\n",
       "      <td>Other</td>\n",
       "      <td>NaN</td>\n",
       "      <td>NaN</td>\n",
       "      <td>NaN</td>\n",
       "      <td>NaN</td>\n",
       "      <td>2020-07-16 06:46:30.471169000</td>\n",
       "      <td>2020-07-16 06:46:30.782348000</td>\n",
       "      <td>4</td>\n",
       "      <td>6</td>\n",
       "      <td>...</td>\n",
       "      <td>1460.0</td>\n",
       "      <td>1460</td>\n",
       "      <td>1</td>\n",
       "      <td>1</td>\n",
       "      <td>5</td>\n",
       "      <td>4</td>\n",
       "      <td>1</td>\n",
       "      <td>1</td>\n",
       "      <td>1</td>\n",
       "      <td>NaN</td>\n",
       "    </tr>\n",
       "    <tr>\n",
       "      <th>3</th>\n",
       "      <td>21937</td>\n",
       "      <td>Windows</td>\n",
       "      <td>10</td>\n",
       "      <td>NaN</td>\n",
       "      <td>NaN</td>\n",
       "      <td>NaN</td>\n",
       "      <td>2020-07-16 06:47:41.565111000</td>\n",
       "      <td>2020-07-16 06:47:45.742005000</td>\n",
       "      <td>4</td>\n",
       "      <td>6</td>\n",
       "      <td>...</td>\n",
       "      <td>1420.0</td>\n",
       "      <td>1460</td>\n",
       "      <td>1</td>\n",
       "      <td>1</td>\n",
       "      <td>12</td>\n",
       "      <td>12</td>\n",
       "      <td>1</td>\n",
       "      <td>1</td>\n",
       "      <td>1</td>\n",
       "      <td>NaN</td>\n",
       "    </tr>\n",
       "    <tr>\n",
       "      <th>4</th>\n",
       "      <td>14120</td>\n",
       "      <td>Other</td>\n",
       "      <td>NaN</td>\n",
       "      <td>NaN</td>\n",
       "      <td>NaN</td>\n",
       "      <td>NaN</td>\n",
       "      <td>2020-07-16 06:49:37.426397000</td>\n",
       "      <td>2020-07-16 06:49:37.640743000</td>\n",
       "      <td>4</td>\n",
       "      <td>6</td>\n",
       "      <td>...</td>\n",
       "      <td>1460.0</td>\n",
       "      <td>1460</td>\n",
       "      <td>1</td>\n",
       "      <td>1</td>\n",
       "      <td>5</td>\n",
       "      <td>3</td>\n",
       "      <td>1</td>\n",
       "      <td>1</td>\n",
       "      <td>1</td>\n",
       "      <td>NaN</td>\n",
       "    </tr>\n",
       "    <tr>\n",
       "      <th>...</th>\n",
       "      <td>...</td>\n",
       "      <td>...</td>\n",
       "      <td>...</td>\n",
       "      <td>...</td>\n",
       "      <td>...</td>\n",
       "      <td>...</td>\n",
       "      <td>...</td>\n",
       "      <td>...</td>\n",
       "      <td>...</td>\n",
       "      <td>...</td>\n",
       "      <td>...</td>\n",
       "      <td>...</td>\n",
       "      <td>...</td>\n",
       "      <td>...</td>\n",
       "      <td>...</td>\n",
       "      <td>...</td>\n",
       "      <td>...</td>\n",
       "      <td>...</td>\n",
       "      <td>...</td>\n",
       "      <td>...</td>\n",
       "      <td>...</td>\n",
       "    </tr>\n",
       "    <tr>\n",
       "      <th>109658</th>\n",
       "      <td>182498</td>\n",
       "      <td>Other</td>\n",
       "      <td>NaN</td>\n",
       "      <td>NaN</td>\n",
       "      <td>NaN</td>\n",
       "      <td>NaN</td>\n",
       "      <td>2020-07-16 14:41:02.354069000</td>\n",
       "      <td>2020-07-16 14:41:03.524971000</td>\n",
       "      <td>4</td>\n",
       "      <td>6</td>\n",
       "      <td>...</td>\n",
       "      <td>1460.0</td>\n",
       "      <td>1460</td>\n",
       "      <td>1</td>\n",
       "      <td>1</td>\n",
       "      <td>27</td>\n",
       "      <td>34</td>\n",
       "      <td>0</td>\n",
       "      <td>4</td>\n",
       "      <td>1</td>\n",
       "      <td>NaN</td>\n",
       "    </tr>\n",
       "    <tr>\n",
       "      <th>109659</th>\n",
       "      <td>188382</td>\n",
       "      <td>Other</td>\n",
       "      <td>NaN</td>\n",
       "      <td>NaN</td>\n",
       "      <td>NaN</td>\n",
       "      <td>NaN</td>\n",
       "      <td>2020-07-16 14:41:05.719276000</td>\n",
       "      <td>2020-07-16 14:41:07.243672000</td>\n",
       "      <td>4</td>\n",
       "      <td>6</td>\n",
       "      <td>...</td>\n",
       "      <td>1460.0</td>\n",
       "      <td>1460</td>\n",
       "      <td>1</td>\n",
       "      <td>1</td>\n",
       "      <td>79</td>\n",
       "      <td>82</td>\n",
       "      <td>1</td>\n",
       "      <td>4</td>\n",
       "      <td>1</td>\n",
       "      <td>NaN</td>\n",
       "    </tr>\n",
       "    <tr>\n",
       "      <th>109660</th>\n",
       "      <td>185688</td>\n",
       "      <td>Other</td>\n",
       "      <td>NaN</td>\n",
       "      <td>NaN</td>\n",
       "      <td>NaN</td>\n",
       "      <td>NaN</td>\n",
       "      <td>2020-07-16 14:41:06.297307000</td>\n",
       "      <td>2020-07-16 14:41:09.714209000</td>\n",
       "      <td>4</td>\n",
       "      <td>6</td>\n",
       "      <td>...</td>\n",
       "      <td>1460.0</td>\n",
       "      <td>1460</td>\n",
       "      <td>1</td>\n",
       "      <td>1</td>\n",
       "      <td>47</td>\n",
       "      <td>53</td>\n",
       "      <td>0</td>\n",
       "      <td>4</td>\n",
       "      <td>1</td>\n",
       "      <td>NaN</td>\n",
       "    </tr>\n",
       "    <tr>\n",
       "      <th>109661</th>\n",
       "      <td>177703</td>\n",
       "      <td>Other</td>\n",
       "      <td>NaN</td>\n",
       "      <td>NaN</td>\n",
       "      <td>NaN</td>\n",
       "      <td>NaN</td>\n",
       "      <td>2020-07-16 14:41:08.558144000</td>\n",
       "      <td>2020-07-16 14:41:11.136282000</td>\n",
       "      <td>4</td>\n",
       "      <td>6</td>\n",
       "      <td>...</td>\n",
       "      <td>1460.0</td>\n",
       "      <td>1460</td>\n",
       "      <td>1</td>\n",
       "      <td>1</td>\n",
       "      <td>40</td>\n",
       "      <td>49</td>\n",
       "      <td>0</td>\n",
       "      <td>4</td>\n",
       "      <td>1</td>\n",
       "      <td>NaN</td>\n",
       "    </tr>\n",
       "    <tr>\n",
       "      <th>109662</th>\n",
       "      <td>190019</td>\n",
       "      <td>Other</td>\n",
       "      <td>NaN</td>\n",
       "      <td>NaN</td>\n",
       "      <td>NaN</td>\n",
       "      <td>NaN</td>\n",
       "      <td>2020-07-16 14:41:11.243480000</td>\n",
       "      <td>2020-07-16 14:41:12.400967000</td>\n",
       "      <td>4</td>\n",
       "      <td>6</td>\n",
       "      <td>...</td>\n",
       "      <td>1460.0</td>\n",
       "      <td>1460</td>\n",
       "      <td>1</td>\n",
       "      <td>1</td>\n",
       "      <td>20</td>\n",
       "      <td>18</td>\n",
       "      <td>1</td>\n",
       "      <td>4</td>\n",
       "      <td>1</td>\n",
       "      <td>NaN</td>\n",
       "    </tr>\n",
       "  </tbody>\n",
       "</table>\n",
       "<p>109663 rows × 112 columns</p>\n",
       "</div>"
      ],
      "text/plain": [
       "        flow_ID UA OS family UA OS major  UA OS minor  UA OS patch  \\\n",
       "0          4313        Other         NaN          NaN          NaN   \n",
       "1         14343        Other         NaN          NaN          NaN   \n",
       "2         18958        Other         NaN          NaN          NaN   \n",
       "3         21937      Windows          10          NaN          NaN   \n",
       "4         14120        Other         NaN          NaN          NaN   \n",
       "...         ...          ...         ...          ...          ...   \n",
       "109658   182498        Other         NaN          NaN          NaN   \n",
       "109659   188382        Other         NaN          NaN          NaN   \n",
       "109660   185688        Other         NaN          NaN          NaN   \n",
       "109661   177703        Other         NaN          NaN          NaN   \n",
       "109662   190019        Other         NaN          NaN          NaN   \n",
       "\n",
       "        UA OS patch minor                          start  \\\n",
       "0                     NaN  2020-07-16 06:44:07.608708000   \n",
       "1                     NaN  2020-07-16 06:45:47.865065000   \n",
       "2                     NaN  2020-07-16 06:46:30.471169000   \n",
       "3                     NaN  2020-07-16 06:47:41.565111000   \n",
       "4                     NaN  2020-07-16 06:49:37.426397000   \n",
       "...                   ...                            ...   \n",
       "109658                NaN  2020-07-16 14:41:02.354069000   \n",
       "109659                NaN  2020-07-16 14:41:05.719276000   \n",
       "109660                NaN  2020-07-16 14:41:06.297307000   \n",
       "109661                NaN  2020-07-16 14:41:08.558144000   \n",
       "109662                NaN  2020-07-16 14:41:11.243480000   \n",
       "\n",
       "                                  end  L3 PROTO  L4 PROTO  ...  \\\n",
       "0       2020-07-16 06:44:07.838529000         4         6  ...   \n",
       "1       2020-07-16 06:45:47.913409000         4         6  ...   \n",
       "2       2020-07-16 06:46:30.782348000         4         6  ...   \n",
       "3       2020-07-16 06:47:45.742005000         4         6  ...   \n",
       "4       2020-07-16 06:49:37.640743000         4         6  ...   \n",
       "...                               ...       ...       ...  ...   \n",
       "109658  2020-07-16 14:41:03.524971000         4         6  ...   \n",
       "109659  2020-07-16 14:41:07.243672000         4         6  ...   \n",
       "109660  2020-07-16 14:41:09.714209000         4         6  ...   \n",
       "109661  2020-07-16 14:41:11.136282000         4         6  ...   \n",
       "109662  2020-07-16 14:41:12.400967000         4         6  ...   \n",
       "\n",
       "        tcpOptionMaximumSegmentSizeforward  \\\n",
       "0                                   1460.0   \n",
       "1                                   1460.0   \n",
       "2                                   1460.0   \n",
       "3                                   1420.0   \n",
       "4                                   1460.0   \n",
       "...                                    ...   \n",
       "109658                              1460.0   \n",
       "109659                              1460.0   \n",
       "109660                              1460.0   \n",
       "109661                              1460.0   \n",
       "109662                              1460.0   \n",
       "\n",
       "        tcpOptionMaximumSegmentSizebackward tcpOptionNoOperationforward  \\\n",
       "0                                      1460                           1   \n",
       "1                                      1460                           1   \n",
       "2                                      1460                           1   \n",
       "3                                      1460                           1   \n",
       "4                                      1460                           1   \n",
       "...                                     ...                         ...   \n",
       "109658                                 1460                           1   \n",
       "109659                                 1460                           1   \n",
       "109660                                 1460                           1   \n",
       "109661                                 1460                           1   \n",
       "109662                                 1460                           1   \n",
       "\n",
       "       tcpOptionNoOperationbackward packetTotalCountforward  \\\n",
       "0                                 1                       6   \n",
       "1                                 1                       4   \n",
       "2                                 1                       5   \n",
       "3                                 1                      12   \n",
       "4                                 1                       5   \n",
       "...                             ...                     ...   \n",
       "109658                            1                      27   \n",
       "109659                            1                      79   \n",
       "109660                            1                      47   \n",
       "109661                            1                      40   \n",
       "109662                            1                      20   \n",
       "\n",
       "        packetTotalCountbackward  flowDirection  flowEndReason  synAckFlag  \\\n",
       "0                              4              1              1           1   \n",
       "1                              3              0              1           1   \n",
       "2                              4              1              1           1   \n",
       "3                             12              1              1           1   \n",
       "4                              3              1              1           1   \n",
       "...                          ...            ...            ...         ...   \n",
       "109658                        34              0              4           1   \n",
       "109659                        82              1              4           1   \n",
       "109660                        53              0              4           1   \n",
       "109661                        49              0              4           1   \n",
       "109662                        18              1              4           1   \n",
       "\n",
       "        Unnamed: 111  \n",
       "0                NaN  \n",
       "1                NaN  \n",
       "2                NaN  \n",
       "3                NaN  \n",
       "4                NaN  \n",
       "...              ...  \n",
       "109658           NaN  \n",
       "109659           NaN  \n",
       "109660           NaN  \n",
       "109661           NaN  \n",
       "109662           NaN  \n",
       "\n",
       "[109663 rows x 112 columns]"
      ]
     },
     "execution_count": 58,
     "metadata": {},
     "output_type": "execute_result"
    }
   ],
   "source": [
    "df"
   ]
  },
  {
   "cell_type": "code",
   "execution_count": 59,
   "metadata": {},
   "outputs": [
    {
     "name": "stdout",
     "output_type": "stream",
     "text": [
      "Number of examples/rows: 109,663\n",
      "Number of features: 112\n"
     ]
    }
   ],
   "source": [
    "my_show_df_shape(df)"
   ]
  },
  {
   "cell_type": "code",
   "execution_count": 60,
   "metadata": {},
   "outputs": [
    {
     "name": "stdout",
     "output_type": "stream",
     "text": [
      "<class 'pandas.core.frame.DataFrame'>\n",
      "RangeIndex: 109663 entries, 0 to 109662\n",
      "Columns: 112 entries, flow_ID to Unnamed: 111\n",
      "dtypes: float64(28), int64(63), object(21)\n",
      "memory usage: 93.7+ MB\n",
      "None\n"
     ]
    }
   ],
   "source": [
    "print(df.info())  # Get information about the dataset (e.g., column names, data types)"
   ]
  },
  {
   "cell_type": "code",
   "execution_count": 61,
   "metadata": {},
   "outputs": [
    {
     "name": "stdout",
     "output_type": "stream",
     "text": [
      "   flow_ID UA OS family UA OS major  UA OS minor  UA OS patch  \\\n",
      "0     4313        Other         NaN          NaN          NaN   \n",
      "1    14343        Other         NaN          NaN          NaN   \n",
      "2    18958        Other         NaN          NaN          NaN   \n",
      "3    21937      Windows          10          NaN          NaN   \n",
      "4    14120        Other         NaN          NaN          NaN   \n",
      "\n",
      "   UA OS patch minor                          start  \\\n",
      "0                NaN  2020-07-16 06:44:07.608708000   \n",
      "1                NaN  2020-07-16 06:45:47.865065000   \n",
      "2                NaN  2020-07-16 06:46:30.471169000   \n",
      "3                NaN  2020-07-16 06:47:41.565111000   \n",
      "4                NaN  2020-07-16 06:49:37.426397000   \n",
      "\n",
      "                             end  L3 PROTO  L4 PROTO  ...  \\\n",
      "0  2020-07-16 06:44:07.838529000         4         6  ...   \n",
      "1  2020-07-16 06:45:47.913409000         4         6  ...   \n",
      "2  2020-07-16 06:46:30.782348000         4         6  ...   \n",
      "3  2020-07-16 06:47:45.742005000         4         6  ...   \n",
      "4  2020-07-16 06:49:37.640743000         4         6  ...   \n",
      "\n",
      "   tcpOptionMaximumSegmentSizeforward  tcpOptionMaximumSegmentSizebackward  \\\n",
      "0                              1460.0                                 1460   \n",
      "1                              1460.0                                 1460   \n",
      "2                              1460.0                                 1460   \n",
      "3                              1420.0                                 1460   \n",
      "4                              1460.0                                 1460   \n",
      "\n",
      "  tcpOptionNoOperationforward tcpOptionNoOperationbackward  \\\n",
      "0                           1                            1   \n",
      "1                           1                            1   \n",
      "2                           1                            1   \n",
      "3                           1                            1   \n",
      "4                           1                            1   \n",
      "\n",
      "  packetTotalCountforward  packetTotalCountbackward  flowDirection  \\\n",
      "0                       6                         4              1   \n",
      "1                       4                         3              0   \n",
      "2                       5                         4              1   \n",
      "3                      12                        12              1   \n",
      "4                       5                         3              1   \n",
      "\n",
      "   flowEndReason  synAckFlag  Unnamed: 111  \n",
      "0              1           1           NaN  \n",
      "1              1           1           NaN  \n",
      "2              1           1           NaN  \n",
      "3              1           1           NaN  \n",
      "4              1           1           NaN  \n",
      "\n",
      "[5 rows x 112 columns]\n"
     ]
    }
   ],
   "source": [
    "print(df.head())  # Display the first few rows of the dataset"
   ]
  },
  {
   "cell_type": "code",
   "execution_count": 62,
   "metadata": {},
   "outputs": [
    {
     "name": "stdout",
     "output_type": "stream",
     "text": [
      "['flow_ID', 'UA OS family', 'UA OS major', 'UA OS minor', 'UA OS patch', 'UA OS patch minor', 'start', 'end', 'L3 PROTO', 'L4 PROTO', 'BYTES A', 'PACKETS A', 'SRC IP', 'DST IP', 'TCP flags A', 'SRC port', 'DST port', 'ICMP TYPE', 'TCP SYN Size', 'TCP Win Size', 'TCP SYN TTL', 'IP ToS', 'HTTP Request Host', 'URL', 'NPM_CLIENT_NETWORK_TIME', 'NPM_SERVER_NETWORK_TIME', 'NPM_SERVER_RESPONSE_TIME', 'NPM_ROUND_TRIP_TIME', 'NPM_RESPONSE_TIMEOUTS_A', 'NPM_RESPONSE_TIMEOUTS_B', 'NPM_TCP_RETRANSMISSION_A', 'NPM_TCP_RETRANSMISSION_B', 'NPM_TCP_OUT_OF_ORDER_A', 'NPM_TCP_OUT_OF_ORDER_B', 'NPM_JITTER_DEV_A', 'NPM_JITTER_AVG_A', 'NPM_JITTER_MIN_A', 'NPM_JITTER_MAX_A', 'NPM_DELAY_DEV_A', 'NPM_DELAY_AVG_A', 'NPM_DELAY_MIN_A', 'NPM_DELAY_MAX_A', 'NPM_DELAY_HISTOGRAM_1_A', 'NPM_DELAY_HISTOGRAM_2_A', 'NPM_DELAY_HISTOGRAM_3_A', 'NPM_DELAY_HISTOGRAM_4_A', 'NPM_DELAY_HISTOGRAM_5_A', 'NPM_DELAY_HISTOGRAM_6_A', 'NPM_DELAY_HISTOGRAM_7_A', 'NPM_JITTER_DEV_B', 'NPM_JITTER_AVG_B', 'NPM_JITTER_MIN_B', 'NPM_JITTER_MAX_B', 'NPM_DELAY_DEV_B', 'NPM_DELAY_AVG_B', 'NPM_DELAY_MIN_B', 'NPM_DELAY_MAX_B', 'NPM_DELAY_HISTOGRAM_1_B', 'NPM_DELAY_HISTOGRAM_2_B', 'NPM_DELAY_HISTOGRAM_3_B', 'NPM_DELAY_HISTOGRAM_4_B', 'NPM_DELAY_HISTOGRAM_5_B', 'NPM_DELAY_HISTOGRAM_6_B', 'NPM_DELAY_HISTOGRAM_7_B', 'TLS_CONTENT_TYPE', 'TLS_HANDSHAKE_TYPE', 'TLS_SETUP_TIME', 'TLS_SERVER_VERSION', 'TLS_SERVER_RANDOM', 'TLS_SERVER_SESSION_ID', 'TLS_CIPHER_SUITE', 'TLS_ALPN', 'TLS_SNI', 'TLS_SNI_LENGTH', 'TLS_CLIENT_VERSION', 'TLS_CIPHER_SUITES', 'TLS_CLIENT_RANDOM', 'TLS_CLIENT_SESSION_ID', 'TLS_EXTENSION_TYPES', 'TLS_EXTENSION_LENGTHS', 'TLS_ELLIPTIC_CURVES', 'TLS_EC_POINT_FORMATS', 'TLS_CLIENT_KEY_LENGTH', 'TLS_ISSUER_CN', 'TLS_SUBJECT_CN', 'TLS_SUBJECT_ON', 'TLS_VALIDITY_NOT_BEFORE', 'TLS_VALIDITY_NOT_AFTER', 'TLS_SIGNATURE_ALG', 'TLS_PUBLIC_KEY_ALG', 'TLS_PUBLIC_KEY_LENGTH', 'TLS_JA3_FINGERPRINT', 'maximumTTLforward', 'maximumTTLbackward', 'IPv4DontFragmentforward', 'IPv4DontFragmentbackward', 'tcpTimestampFirstPacketforward', 'tcpTimestampFirstPacketbackward', 'tcpOptionWindowScaleforward', 'tcpOptionWindowScalebackward', 'tcpOptionSelectiveAckPermittedforward', 'tcpOptionSelectiveAckPermittedbackward', 'tcpOptionMaximumSegmentSizeforward', 'tcpOptionMaximumSegmentSizebackward', 'tcpOptionNoOperationforward', 'tcpOptionNoOperationbackward', 'packetTotalCountforward', 'packetTotalCountbackward', 'flowDirection', 'flowEndReason', 'synAckFlag', 'Unnamed: 111']\n"
     ]
    }
   ],
   "source": [
    "columns_list = df.columns.tolist()\n",
    "print(columns_list)  # Get the list of columns in the dataset"
   ]
  },
  {
   "cell_type": "code",
   "execution_count": 63,
   "metadata": {},
   "outputs": [
    {
     "name": "stdout",
     "output_type": "stream",
     "text": [
      "int64 (63)\n",
      "['flow_ID', 'L3 PROTO', 'L4 PROTO', 'BYTES A', 'PACKETS A', 'SRC port', 'DST port', 'TCP SYN TTL', 'IP ToS', 'NPM_CLIENT_NETWORK_TIME', 'NPM_SERVER_NETWORK_TIME', 'NPM_SERVER_RESPONSE_TIME', 'NPM_ROUND_TRIP_TIME', 'NPM_RESPONSE_TIMEOUTS_A', 'NPM_RESPONSE_TIMEOUTS_B', 'NPM_TCP_RETRANSMISSION_A', 'NPM_TCP_RETRANSMISSION_B', 'NPM_TCP_OUT_OF_ORDER_A', 'NPM_TCP_OUT_OF_ORDER_B', 'NPM_JITTER_DEV_A', 'NPM_JITTER_AVG_A', 'NPM_JITTER_MIN_A', 'NPM_JITTER_MAX_A', 'NPM_DELAY_DEV_A', 'NPM_DELAY_AVG_A', 'NPM_DELAY_MIN_A', 'NPM_DELAY_MAX_A', 'NPM_DELAY_HISTOGRAM_1_A', 'NPM_DELAY_HISTOGRAM_2_A', 'NPM_DELAY_HISTOGRAM_3_A', 'NPM_DELAY_HISTOGRAM_4_A', 'NPM_DELAY_HISTOGRAM_5_A', 'NPM_DELAY_HISTOGRAM_6_A', 'NPM_DELAY_HISTOGRAM_7_A', 'NPM_JITTER_DEV_B', 'NPM_JITTER_AVG_B', 'NPM_JITTER_MIN_B', 'NPM_JITTER_MAX_B', 'NPM_DELAY_DEV_B', 'NPM_DELAY_AVG_B', 'NPM_DELAY_MIN_B', 'NPM_DELAY_MAX_B', 'NPM_DELAY_HISTOGRAM_1_B', 'NPM_DELAY_HISTOGRAM_2_B', 'NPM_DELAY_HISTOGRAM_3_B', 'NPM_DELAY_HISTOGRAM_4_B', 'NPM_DELAY_HISTOGRAM_5_B', 'NPM_DELAY_HISTOGRAM_6_B', 'NPM_DELAY_HISTOGRAM_7_B', 'maximumTTLforward', 'maximumTTLbackward', 'IPv4DontFragmentforward', 'IPv4DontFragmentbackward', 'tcpOptionSelectiveAckPermittedforward', 'tcpOptionSelectiveAckPermittedbackward', 'tcpOptionMaximumSegmentSizebackward', 'tcpOptionNoOperationforward', 'tcpOptionNoOperationbackward', 'packetTotalCountforward', 'packetTotalCountbackward', 'flowDirection', 'flowEndReason', 'synAckFlag']\n",
      "\n",
      "float64 (28)\n",
      "['UA OS minor', 'UA OS patch', 'UA OS patch minor', 'ICMP TYPE', 'TCP SYN Size', 'TCP Win Size', 'TLS_CONTENT_TYPE', 'TLS_HANDSHAKE_TYPE', 'TLS_SETUP_TIME', 'TLS_SERVER_VERSION', 'TLS_CIPHER_SUITE', 'TLS_SNI_LENGTH', 'TLS_CLIENT_VERSION', 'TLS_CLIENT_KEY_LENGTH', 'TLS_ISSUER_CN', 'TLS_SUBJECT_CN', 'TLS_SUBJECT_ON', 'TLS_VALIDITY_NOT_BEFORE', 'TLS_VALIDITY_NOT_AFTER', 'TLS_SIGNATURE_ALG', 'TLS_PUBLIC_KEY_ALG', 'TLS_PUBLIC_KEY_LENGTH', 'tcpTimestampFirstPacketforward', 'tcpTimestampFirstPacketbackward', 'tcpOptionWindowScaleforward', 'tcpOptionWindowScalebackward', 'tcpOptionMaximumSegmentSizeforward', 'Unnamed: 111']\n",
      "\n",
      "object (21)\n",
      "['UA OS family', 'UA OS major', 'start', 'end', 'SRC IP', 'DST IP', 'TCP flags A', 'HTTP Request Host', 'URL', 'TLS_SERVER_RANDOM', 'TLS_SERVER_SESSION_ID', 'TLS_ALPN', 'TLS_SNI', 'TLS_CIPHER_SUITES', 'TLS_CLIENT_RANDOM', 'TLS_CLIENT_SESSION_ID', 'TLS_EXTENSION_TYPES', 'TLS_EXTENSION_LENGTHS', 'TLS_ELLIPTIC_CURVES', 'TLS_EC_POINT_FORMATS', 'TLS_JA3_FINGERPRINT']\n",
      "\n"
     ]
    }
   ],
   "source": [
    "column_names_by_dtype = {str(dtype): columns.to_list() for dtype, columns in df.columns.groupby(df.dtypes).items()}\n",
    "for dtype, columns in column_names_by_dtype.items():\n",
    "    print(f\"{dtype} ({len(columns)})\")\n",
    "    print(columns)\n",
    "    print()"
   ]
  },
  {
   "cell_type": "code",
   "execution_count": 64,
   "metadata": {},
   "outputs": [
    {
     "name": "stdout",
     "output_type": "stream",
     "text": [
      "Number of NaN values: 1363244\n",
      "Number of duplicated values: 0\n"
     ]
    }
   ],
   "source": [
    "# Count the number of NaN values in the dataframe\n",
    "nan_count = df.isna().sum().sum()\n",
    "\n",
    "# Count the number of duplicated values in the dataframe\n",
    "duplicated_count = df.duplicated().sum()\n",
    "\n",
    "# Print the results\n",
    "print(\"Number of NaN values:\", nan_count)\n",
    "print(\"Number of duplicated values:\", duplicated_count)"
   ]
  },
  {
   "cell_type": "code",
   "execution_count": 65,
   "metadata": {},
   "outputs": [
    {
     "name": "stdout",
     "output_type": "stream",
     "text": [
      "Number of examples/rows: 109663\n",
      "Number of features: 112\n",
      "Features with NaNs:\n",
      "flow_ID                                          no NaNs\n",
      "UA OS family                                     no NaNs\n",
      "UA OS major                                 45385      41.3859 %\n",
      "UA OS minor                                 89293      81.4249 %\n",
      "UA OS patch                                 93477      85.2402 %\n",
      "UA OS patch minor                           109663     100.0000%\n",
      "start                                            no NaNs\n",
      "end                                              no NaNs\n",
      "L3 PROTO                                         no NaNs\n",
      "L4 PROTO                                         no NaNs\n",
      "BYTES A                                          no NaNs\n",
      "PACKETS A                                        no NaNs\n",
      "SRC IP                                           no NaNs\n",
      "DST IP                                           no NaNs\n",
      "TCP flags A                                      no NaNs\n",
      "SRC port                                         no NaNs\n",
      "DST port                                         no NaNs\n",
      "ICMP TYPE                                   109663     100.0000%\n",
      "TCP SYN Size                                2          0.0018  %\n",
      "TCP Win Size                                2          0.0018  %\n",
      "TCP SYN TTL                                      no NaNs\n",
      "IP ToS                                           no NaNs\n",
      "HTTP Request Host                                no NaNs\n",
      "URL                                              no NaNs\n",
      "NPM_CLIENT_NETWORK_TIME                          no NaNs\n",
      "NPM_SERVER_NETWORK_TIME                          no NaNs\n",
      "NPM_SERVER_RESPONSE_TIME                         no NaNs\n",
      "NPM_ROUND_TRIP_TIME                              no NaNs\n",
      "NPM_RESPONSE_TIMEOUTS_A                          no NaNs\n",
      "NPM_RESPONSE_TIMEOUTS_B                          no NaNs\n",
      "NPM_TCP_RETRANSMISSION_A                         no NaNs\n",
      "NPM_TCP_RETRANSMISSION_B                         no NaNs\n",
      "NPM_TCP_OUT_OF_ORDER_A                           no NaNs\n",
      "NPM_TCP_OUT_OF_ORDER_B                           no NaNs\n",
      "NPM_JITTER_DEV_A                                 no NaNs\n",
      "NPM_JITTER_AVG_A                                 no NaNs\n",
      "NPM_JITTER_MIN_A                                 no NaNs\n",
      "NPM_JITTER_MAX_A                                 no NaNs\n",
      "NPM_DELAY_DEV_A                                  no NaNs\n",
      "NPM_DELAY_AVG_A                                  no NaNs\n",
      "NPM_DELAY_MIN_A                                  no NaNs\n",
      "NPM_DELAY_MAX_A                                  no NaNs\n",
      "NPM_DELAY_HISTOGRAM_1_A                          no NaNs\n",
      "NPM_DELAY_HISTOGRAM_2_A                          no NaNs\n",
      "NPM_DELAY_HISTOGRAM_3_A                          no NaNs\n",
      "NPM_DELAY_HISTOGRAM_4_A                          no NaNs\n",
      "NPM_DELAY_HISTOGRAM_5_A                          no NaNs\n",
      "NPM_DELAY_HISTOGRAM_6_A                          no NaNs\n",
      "NPM_DELAY_HISTOGRAM_7_A                          no NaNs\n",
      "NPM_JITTER_DEV_B                                 no NaNs\n",
      "NPM_JITTER_AVG_B                                 no NaNs\n",
      "NPM_JITTER_MIN_B                                 no NaNs\n",
      "NPM_JITTER_MAX_B                                 no NaNs\n",
      "NPM_DELAY_DEV_B                                  no NaNs\n",
      "NPM_DELAY_AVG_B                                  no NaNs\n",
      "NPM_DELAY_MIN_B                                  no NaNs\n",
      "NPM_DELAY_MAX_B                                  no NaNs\n",
      "NPM_DELAY_HISTOGRAM_1_B                          no NaNs\n",
      "NPM_DELAY_HISTOGRAM_2_B                          no NaNs\n",
      "NPM_DELAY_HISTOGRAM_3_B                          no NaNs\n",
      "NPM_DELAY_HISTOGRAM_4_B                          no NaNs\n",
      "NPM_DELAY_HISTOGRAM_5_B                          no NaNs\n",
      "NPM_DELAY_HISTOGRAM_6_B                          no NaNs\n",
      "NPM_DELAY_HISTOGRAM_7_B                          no NaNs\n",
      "TLS_CONTENT_TYPE                            10288      9.3815  %\n",
      "TLS_HANDSHAKE_TYPE                          10288      9.3815  %\n",
      "TLS_SETUP_TIME                              10288      9.3815  %\n",
      "TLS_SERVER_VERSION                          10288      9.3815  %\n",
      "TLS_SERVER_RANDOM                           10288      9.3815  %\n",
      "TLS_SERVER_SESSION_ID                       10288      9.3815  %\n",
      "TLS_CIPHER_SUITE                            10288      9.3815  %\n",
      "TLS_ALPN                                    109120     99.5048 %\n",
      "TLS_SNI                                     10288      9.3815  %\n",
      "TLS_SNI_LENGTH                              10288      9.3815  %\n",
      "TLS_CLIENT_VERSION                          10288      9.3815  %\n",
      "TLS_CIPHER_SUITES                           10288      9.3815  %\n",
      "TLS_CLIENT_RANDOM                           10288      9.3815  %\n",
      "TLS_CLIENT_SESSION_ID                       10288      9.3815  %\n",
      "TLS_EXTENSION_TYPES                         10288      9.3815  %\n",
      "TLS_EXTENSION_LENGTHS                       10288      9.3815  %\n",
      "TLS_ELLIPTIC_CURVES                         10288      9.3815  %\n",
      "TLS_EC_POINT_FORMATS                        10288      9.3815  %\n",
      "TLS_CLIENT_KEY_LENGTH                       10288      9.3815  %\n",
      "TLS_ISSUER_CN                               109663     100.0000%\n",
      "TLS_SUBJECT_CN                              109663     100.0000%\n",
      "TLS_SUBJECT_ON                              109663     100.0000%\n",
      "TLS_VALIDITY_NOT_BEFORE                     10288      9.3815  %\n",
      "TLS_VALIDITY_NOT_AFTER                      10288      9.3815  %\n",
      "TLS_SIGNATURE_ALG                           10288      9.3815  %\n",
      "TLS_PUBLIC_KEY_ALG                          10288      9.3815  %\n",
      "TLS_PUBLIC_KEY_LENGTH                       10288      9.3815  %\n",
      "TLS_JA3_FINGERPRINT                         10288      9.3815  %\n",
      "maximumTTLforward                                no NaNs\n",
      "maximumTTLbackward                               no NaNs\n",
      "IPv4DontFragmentforward                          no NaNs\n",
      "IPv4DontFragmentbackward                         no NaNs\n",
      "tcpTimestampFirstPacketforward              43625      39.7810 %\n",
      "tcpTimestampFirstPacketbackward             57176      52.1379 %\n",
      "tcpOptionWindowScaleforward                 10108      9.2173  %\n",
      "tcpOptionWindowScalebackward                10109      9.2182  %\n",
      "tcpOptionSelectiveAckPermittedforward            no NaNs\n",
      "tcpOptionSelectiveAckPermittedbackward           no NaNs\n",
      "tcpOptionMaximumSegmentSizeforward          57         0.0520  %\n",
      "tcpOptionMaximumSegmentSizebackward              no NaNs\n",
      "tcpOptionNoOperationforward                      no NaNs\n",
      "tcpOptionNoOperationbackward                     no NaNs\n",
      "packetTotalCountforward                          no NaNs\n",
      "packetTotalCountbackward                         no NaNs\n",
      "flowDirection                                    no NaNs\n",
      "flowEndReason                                    no NaNs\n",
      "synAckFlag                                       no NaNs\n",
      "Unnamed: 111                                109663     100.0000%\n"
     ]
    }
   ],
   "source": [
    "my_show_df_NaNs(df)"
   ]
  },
  {
   "cell_type": "code",
   "execution_count": 66,
   "metadata": {},
   "outputs": [
    {
     "data": {
      "text/html": [
       "<div>\n",
       "<style scoped>\n",
       "    .dataframe tbody tr th:only-of-type {\n",
       "        vertical-align: middle;\n",
       "    }\n",
       "\n",
       "    .dataframe tbody tr th {\n",
       "        vertical-align: top;\n",
       "    }\n",
       "\n",
       "    .dataframe thead th {\n",
       "        text-align: right;\n",
       "    }\n",
       "</style>\n",
       "<table border=\"1\" class=\"dataframe\">\n",
       "  <thead>\n",
       "    <tr style=\"text-align: right;\">\n",
       "      <th></th>\n",
       "      <th>flow_ID</th>\n",
       "      <th>UA OS minor</th>\n",
       "      <th>UA OS patch</th>\n",
       "      <th>UA OS patch minor</th>\n",
       "      <th>L3 PROTO</th>\n",
       "      <th>L4 PROTO</th>\n",
       "      <th>BYTES A</th>\n",
       "      <th>PACKETS A</th>\n",
       "      <th>SRC port</th>\n",
       "      <th>DST port</th>\n",
       "      <th>...</th>\n",
       "      <th>tcpOptionMaximumSegmentSizeforward</th>\n",
       "      <th>tcpOptionMaximumSegmentSizebackward</th>\n",
       "      <th>tcpOptionNoOperationforward</th>\n",
       "      <th>tcpOptionNoOperationbackward</th>\n",
       "      <th>packetTotalCountforward</th>\n",
       "      <th>packetTotalCountbackward</th>\n",
       "      <th>flowDirection</th>\n",
       "      <th>flowEndReason</th>\n",
       "      <th>synAckFlag</th>\n",
       "      <th>Unnamed: 111</th>\n",
       "    </tr>\n",
       "  </thead>\n",
       "  <tbody>\n",
       "    <tr>\n",
       "      <th>count</th>\n",
       "      <td>109663.000000</td>\n",
       "      <td>20370.000000</td>\n",
       "      <td>16186.000000</td>\n",
       "      <td>0.0</td>\n",
       "      <td>109663.0</td>\n",
       "      <td>109663.0</td>\n",
       "      <td>1.096630e+05</td>\n",
       "      <td>109663.000000</td>\n",
       "      <td>109663.000000</td>\n",
       "      <td>109663.000000</td>\n",
       "      <td>...</td>\n",
       "      <td>109606.000000</td>\n",
       "      <td>109663.0</td>\n",
       "      <td>109663.000000</td>\n",
       "      <td>109663.000000</td>\n",
       "      <td>109663.000000</td>\n",
       "      <td>1.096630e+05</td>\n",
       "      <td>109663.000000</td>\n",
       "      <td>109663.000000</td>\n",
       "      <td>109663.0</td>\n",
       "      <td>0.0</td>\n",
       "    </tr>\n",
       "    <tr>\n",
       "      <th>mean</th>\n",
       "      <td>95991.844487</td>\n",
       "      <td>5.831861</td>\n",
       "      <td>2.202459</td>\n",
       "      <td>NaN</td>\n",
       "      <td>4.0</td>\n",
       "      <td>6.0</td>\n",
       "      <td>4.730954e+03</td>\n",
       "      <td>58.033685</td>\n",
       "      <td>41446.312065</td>\n",
       "      <td>408.945269</td>\n",
       "      <td>...</td>\n",
       "      <td>1463.160885</td>\n",
       "      <td>1460.0</td>\n",
       "      <td>0.997319</td>\n",
       "      <td>0.997319</td>\n",
       "      <td>57.887738</td>\n",
       "      <td>9.658285e+01</td>\n",
       "      <td>0.677393</td>\n",
       "      <td>1.026399</td>\n",
       "      <td>1.0</td>\n",
       "      <td>NaN</td>\n",
       "    </tr>\n",
       "    <tr>\n",
       "      <th>std</th>\n",
       "      <td>54832.207627</td>\n",
       "      <td>6.578816</td>\n",
       "      <td>1.987566</td>\n",
       "      <td>NaN</td>\n",
       "      <td>0.0</td>\n",
       "      <td>0.0</td>\n",
       "      <td>1.411542e+05</td>\n",
       "      <td>2813.989105</td>\n",
       "      <td>18167.714769</td>\n",
       "      <td>105.840658</td>\n",
       "      <td>...</td>\n",
       "      <td>394.944312</td>\n",
       "      <td>0.0</td>\n",
       "      <td>0.051709</td>\n",
       "      <td>0.051709</td>\n",
       "      <td>2813.980090</td>\n",
       "      <td>6.392697e+03</td>\n",
       "      <td>0.467476</td>\n",
       "      <td>0.280180</td>\n",
       "      <td>0.0</td>\n",
       "      <td>NaN</td>\n",
       "    </tr>\n",
       "    <tr>\n",
       "      <th>min</th>\n",
       "      <td>452.000000</td>\n",
       "      <td>0.000000</td>\n",
       "      <td>0.000000</td>\n",
       "      <td>NaN</td>\n",
       "      <td>4.0</td>\n",
       "      <td>6.0</td>\n",
       "      <td>2.300000e+02</td>\n",
       "      <td>3.000000</td>\n",
       "      <td>1024.000000</td>\n",
       "      <td>80.000000</td>\n",
       "      <td>...</td>\n",
       "      <td>960.000000</td>\n",
       "      <td>1460.0</td>\n",
       "      <td>0.000000</td>\n",
       "      <td>0.000000</td>\n",
       "      <td>3.000000</td>\n",
       "      <td>2.000000e+00</td>\n",
       "      <td>0.000000</td>\n",
       "      <td>1.000000</td>\n",
       "      <td>1.0</td>\n",
       "      <td>NaN</td>\n",
       "    </tr>\n",
       "    <tr>\n",
       "      <th>25%</th>\n",
       "      <td>48614.500000</td>\n",
       "      <td>1.000000</td>\n",
       "      <td>1.000000</td>\n",
       "      <td>NaN</td>\n",
       "      <td>4.0</td>\n",
       "      <td>6.0</td>\n",
       "      <td>1.312000e+03</td>\n",
       "      <td>9.000000</td>\n",
       "      <td>28966.500000</td>\n",
       "      <td>443.000000</td>\n",
       "      <td>...</td>\n",
       "      <td>1430.000000</td>\n",
       "      <td>1460.0</td>\n",
       "      <td>1.000000</td>\n",
       "      <td>1.000000</td>\n",
       "      <td>9.000000</td>\n",
       "      <td>8.000000e+00</td>\n",
       "      <td>0.000000</td>\n",
       "      <td>1.000000</td>\n",
       "      <td>1.0</td>\n",
       "      <td>NaN</td>\n",
       "    </tr>\n",
       "    <tr>\n",
       "      <th>50%</th>\n",
       "      <td>95834.000000</td>\n",
       "      <td>5.000000</td>\n",
       "      <td>1.000000</td>\n",
       "      <td>NaN</td>\n",
       "      <td>4.0</td>\n",
       "      <td>6.0</td>\n",
       "      <td>1.948000e+03</td>\n",
       "      <td>16.000000</td>\n",
       "      <td>48460.000000</td>\n",
       "      <td>443.000000</td>\n",
       "      <td>...</td>\n",
       "      <td>1460.000000</td>\n",
       "      <td>1460.0</td>\n",
       "      <td>1.000000</td>\n",
       "      <td>1.000000</td>\n",
       "      <td>16.000000</td>\n",
       "      <td>1.900000e+01</td>\n",
       "      <td>1.000000</td>\n",
       "      <td>1.000000</td>\n",
       "      <td>1.0</td>\n",
       "      <td>NaN</td>\n",
       "    </tr>\n",
       "    <tr>\n",
       "      <th>75%</th>\n",
       "      <td>143315.000000</td>\n",
       "      <td>10.000000</td>\n",
       "      <td>4.000000</td>\n",
       "      <td>NaN</td>\n",
       "      <td>4.0</td>\n",
       "      <td>6.0</td>\n",
       "      <td>3.437000e+03</td>\n",
       "      <td>32.000000</td>\n",
       "      <td>55436.000000</td>\n",
       "      <td>443.000000</td>\n",
       "      <td>...</td>\n",
       "      <td>1460.000000</td>\n",
       "      <td>1460.0</td>\n",
       "      <td>1.000000</td>\n",
       "      <td>1.000000</td>\n",
       "      <td>32.000000</td>\n",
       "      <td>4.800000e+01</td>\n",
       "      <td>1.000000</td>\n",
       "      <td>1.000000</td>\n",
       "      <td>1.0</td>\n",
       "      <td>NaN</td>\n",
       "    </tr>\n",
       "    <tr>\n",
       "      <th>max</th>\n",
       "      <td>192498.000000</td>\n",
       "      <td>92.000000</td>\n",
       "      <td>8.000000</td>\n",
       "      <td>NaN</td>\n",
       "      <td>4.0</td>\n",
       "      <td>6.0</td>\n",
       "      <td>3.702518e+07</td>\n",
       "      <td>683642.000000</td>\n",
       "      <td>65534.000000</td>\n",
       "      <td>443.000000</td>\n",
       "      <td>...</td>\n",
       "      <td>15284.000000</td>\n",
       "      <td>1460.0</td>\n",
       "      <td>1.000000</td>\n",
       "      <td>1.000000</td>\n",
       "      <td>683642.000000</td>\n",
       "      <td>1.659377e+06</td>\n",
       "      <td>1.000000</td>\n",
       "      <td>4.000000</td>\n",
       "      <td>1.0</td>\n",
       "      <td>NaN</td>\n",
       "    </tr>\n",
       "  </tbody>\n",
       "</table>\n",
       "<p>8 rows × 91 columns</p>\n",
       "</div>"
      ],
      "text/plain": [
       "             flow_ID   UA OS minor   UA OS patch  UA OS patch minor  L3 PROTO  \\\n",
       "count  109663.000000  20370.000000  16186.000000                0.0  109663.0   \n",
       "mean    95991.844487      5.831861      2.202459                NaN       4.0   \n",
       "std     54832.207627      6.578816      1.987566                NaN       0.0   \n",
       "min       452.000000      0.000000      0.000000                NaN       4.0   \n",
       "25%     48614.500000      1.000000      1.000000                NaN       4.0   \n",
       "50%     95834.000000      5.000000      1.000000                NaN       4.0   \n",
       "75%    143315.000000     10.000000      4.000000                NaN       4.0   \n",
       "max    192498.000000     92.000000      8.000000                NaN       4.0   \n",
       "\n",
       "       L4 PROTO       BYTES A      PACKETS A       SRC port       DST port  \\\n",
       "count  109663.0  1.096630e+05  109663.000000  109663.000000  109663.000000   \n",
       "mean        6.0  4.730954e+03      58.033685   41446.312065     408.945269   \n",
       "std         0.0  1.411542e+05    2813.989105   18167.714769     105.840658   \n",
       "min         6.0  2.300000e+02       3.000000    1024.000000      80.000000   \n",
       "25%         6.0  1.312000e+03       9.000000   28966.500000     443.000000   \n",
       "50%         6.0  1.948000e+03      16.000000   48460.000000     443.000000   \n",
       "75%         6.0  3.437000e+03      32.000000   55436.000000     443.000000   \n",
       "max         6.0  3.702518e+07  683642.000000   65534.000000     443.000000   \n",
       "\n",
       "       ...  tcpOptionMaximumSegmentSizeforward  \\\n",
       "count  ...                       109606.000000   \n",
       "mean   ...                         1463.160885   \n",
       "std    ...                          394.944312   \n",
       "min    ...                          960.000000   \n",
       "25%    ...                         1430.000000   \n",
       "50%    ...                         1460.000000   \n",
       "75%    ...                         1460.000000   \n",
       "max    ...                        15284.000000   \n",
       "\n",
       "       tcpOptionMaximumSegmentSizebackward  tcpOptionNoOperationforward  \\\n",
       "count                             109663.0                109663.000000   \n",
       "mean                                1460.0                     0.997319   \n",
       "std                                    0.0                     0.051709   \n",
       "min                                 1460.0                     0.000000   \n",
       "25%                                 1460.0                     1.000000   \n",
       "50%                                 1460.0                     1.000000   \n",
       "75%                                 1460.0                     1.000000   \n",
       "max                                 1460.0                     1.000000   \n",
       "\n",
       "       tcpOptionNoOperationbackward  packetTotalCountforward  \\\n",
       "count                 109663.000000            109663.000000   \n",
       "mean                       0.997319                57.887738   \n",
       "std                        0.051709              2813.980090   \n",
       "min                        0.000000                 3.000000   \n",
       "25%                        1.000000                 9.000000   \n",
       "50%                        1.000000                16.000000   \n",
       "75%                        1.000000                32.000000   \n",
       "max                        1.000000            683642.000000   \n",
       "\n",
       "       packetTotalCountbackward  flowDirection  flowEndReason  synAckFlag  \\\n",
       "count              1.096630e+05  109663.000000  109663.000000    109663.0   \n",
       "mean               9.658285e+01       0.677393       1.026399         1.0   \n",
       "std                6.392697e+03       0.467476       0.280180         0.0   \n",
       "min                2.000000e+00       0.000000       1.000000         1.0   \n",
       "25%                8.000000e+00       0.000000       1.000000         1.0   \n",
       "50%                1.900000e+01       1.000000       1.000000         1.0   \n",
       "75%                4.800000e+01       1.000000       1.000000         1.0   \n",
       "max                1.659377e+06       1.000000       4.000000         1.0   \n",
       "\n",
       "       Unnamed: 111  \n",
       "count           0.0  \n",
       "mean            NaN  \n",
       "std             NaN  \n",
       "min             NaN  \n",
       "25%             NaN  \n",
       "50%             NaN  \n",
       "75%             NaN  \n",
       "max             NaN  \n",
       "\n",
       "[8 rows x 91 columns]"
      ]
     },
     "execution_count": 66,
     "metadata": {},
     "output_type": "execute_result"
    }
   ],
   "source": [
    "df.describe()"
   ]
  },
  {
   "cell_type": "code",
   "execution_count": 67,
   "metadata": {},
   "outputs": [
    {
     "name": "stdout",
     "output_type": "stream",
     "text": [
      "<class 'pandas.core.frame.DataFrame'>\n",
      "RangeIndex: 109663 entries, 0 to 109662\n",
      "Columns: 112 entries, flow_ID to Unnamed: 111\n",
      "dtypes: float64(28), int64(63), object(21)\n",
      "memory usage: 252.8 MB\n"
     ]
    }
   ],
   "source": [
    "df.info(memory_usage='deep')"
   ]
  },
  {
   "cell_type": "markdown",
   "metadata": {},
   "source": [
    "#### Target Classes"
   ]
  },
  {
   "cell_type": "code",
   "execution_count": 68,
   "metadata": {},
   "outputs": [],
   "source": [
    "target = 'UA OS family'\n",
    "# target = 'HTTP_Host_OS_Major_Version'\n",
    "# target = 'HTTP_Host_OS_Minor_Version'\n",
    "# target = 'HTTP_hostname'\n",
    "targets = ['UA OS family', 'UA OS major', 'UA OS minor']"
   ]
  },
  {
   "cell_type": "code",
   "execution_count": 69,
   "metadata": {},
   "outputs": [
    {
     "data": {
      "text/plain": [
       "UA OS family\n",
       "Other         42474\n",
       "Windows       40349\n",
       "Android       10290\n",
       "iOS            8840\n",
       "Mac OS X       5324\n",
       "Linux          1589\n",
       "Ubuntu          653\n",
       "Fedora           88\n",
       "Chrome OS        53\n",
       "Symbian OS        1\n",
       "Slackware         1\n",
       "Linux Mint        1\n",
       "Name: count, dtype: int64"
      ]
     },
     "execution_count": 69,
     "metadata": {},
     "output_type": "execute_result"
    }
   ],
   "source": [
    "df[target].value_counts()"
   ]
  },
  {
   "cell_type": "markdown",
   "metadata": {
    "slideshow": {
     "slide_type": "skip"
    }
   },
   "source": [
    "#### Histogram"
   ]
  },
  {
   "cell_type": "code",
   "execution_count": 70,
   "metadata": {},
   "outputs": [
    {
     "data": {
      "image/png": "[encoded data removed]",
      "text/plain": [
       "<Figure size 640x480 with 1 Axes>"
      ]
     },
     "metadata": {},
     "output_type": "display_data"
    },
    {
     "data": {
      "image/png": "[encoded data removed]",
      "text/plain": [
       "<Figure size 640x480 with 1 Axes>"
      ]
     },
     "metadata": {},
     "output_type": "display_data"
    },
    {
     "data": {
      "image/png": "[encoded data removed]",
      "text/plain": [
       "<Figure size 640x480 with 1 Axes>"
      ]
     },
     "metadata": {},
     "output_type": "display_data"
    }
   ],
   "source": [
    "for column in targets:\n",
    "    plt.xticks(rotation=0)\n",
    "    sns.countplot(y=column, data=df)\n",
    "    plt.show()"
   ]
  },
  {
   "cell_type": "code",
   "execution_count": 71,
   "metadata": {},
   "outputs": [
    {
     "data": {
      "text/plain": [
       "<Axes: xlabel='count'>"
      ]
     },
     "execution_count": 71,
     "metadata": {},
     "output_type": "execute_result"
    },
    {
     "data": {
      "image/png": "[encoded data removed]",
      "text/plain": [
       "<Figure size 640x480 with 1 Axes>"
      ]
     },
     "metadata": {},
     "output_type": "display_data"
    }
   ],
   "source": [
    "df_hist = df[targets[0]] + \" \" + df[targets[1]].astype(str)\n",
    "top_10_values = df_hist.value_counts().head(15)\n",
    "df_hist = df_hist[df_hist.isin(top_10_values.index)]\n",
    "sns.countplot(data=df_hist)"
   ]
  },
  {
   "cell_type": "code",
   "execution_count": 72,
   "metadata": {},
   "outputs": [
    {
     "data": {
      "text/plain": [
       "Other nan      42474\n",
       "Windows 10     29557\n",
       "Windows 7       7726\n",
       "iOS 13          7320\n",
       "Mac OS X 10     5281\n",
       "Android 9       2737\n",
       "Android 10      2257\n",
       "Android 6       2122\n",
       "Windows 8       1673\n",
       "Linux nan       1584\n",
       "Android 7       1271\n",
       "Android 8       1217\n",
       "Windows XP       893\n",
       "iOS 12           659\n",
       "Ubuntu nan       650\n",
       "Name: count, dtype: int64"
      ]
     },
     "execution_count": 72,
     "metadata": {},
     "output_type": "execute_result"
    }
   ],
   "source": [
    "df_hist.value_counts()"
   ]
  },
  {
   "cell_type": "code",
   "execution_count": 73,
   "metadata": {},
   "outputs": [
    {
     "data": {
      "text/plain": [
       "<Axes: xlabel='count'>"
      ]
     },
     "execution_count": 73,
     "metadata": {},
     "output_type": "execute_result"
    },
    {
     "data": {
      "image/png": "[encoded data removed]",
      "text/plain": [
       "<Figure size 640x480 with 1 Axes>"
      ]
     },
     "metadata": {},
     "output_type": "display_data"
    }
   ],
   "source": [
    "df_hist = df[targets[0]] + \" \" + df[targets[1]].astype(str) + \" \" + df[targets[2]].astype(str)\n",
    "top_10_values = df_hist.value_counts().head(15)\n",
    "df_hist = df_hist[df_hist.isin(top_10_values.index)]\n",
    "sns.countplot(data=df_hist)"
   ]
  },
  {
   "cell_type": "code",
   "execution_count": 74,
   "metadata": {},
   "outputs": [
    {
     "data": {
      "text/plain": [
       "Other nan nan       42474\n",
       "Windows 10 nan      29557\n",
       "Windows 7 nan        7726\n",
       "iOS 13 5.0           6094\n",
       "Mac OS X 10 15.0     3137\n",
       "Android 9 nan        2737\n",
       "Android 10 nan       2257\n",
       "Android 6 0.0        2122\n",
       "Linux nan nan        1584\n",
       "Windows 8 1.0        1372\n",
       "Android 7 0.0         913\n",
       "Windows XP nan        893\n",
       "Android 8 0.0         761\n",
       "Ubuntu nan nan        650\n",
       "Mac OS X 10 14.0      649\n",
       "Name: count, dtype: int64"
      ]
     },
     "execution_count": 74,
     "metadata": {},
     "output_type": "execute_result"
    }
   ],
   "source": [
    "df_hist.value_counts()"
   ]
  },
  {
   "cell_type": "code",
   "execution_count": 76,
   "metadata": {},
   "outputs": [],
   "source": [
    "df_family = df[targets[0]]\n",
    "df_major = df[targets[0]] + \" \" + df[targets[1]].astype(str)\n",
    "df_minor = df[targets[0]] + \" \" + df[targets[1]].astype(str) + \" \" + df[targets[2]].astype(str)"
   ]
  },
  {
   "cell_type": "code",
   "execution_count": 77,
   "metadata": {},
   "outputs": [
    {
     "data": {
      "text/plain": [
       "(12, 50, 88)"
      ]
     },
     "execution_count": 77,
     "metadata": {},
     "output_type": "execute_result"
    }
   ],
   "source": [
    "df_family.nunique(), df_major.nunique(), df_minor.nunique()"
   ]
  },
  {
   "cell_type": "code",
   "execution_count": 78,
   "metadata": {},
   "outputs": [
    {
     "ename": "ValueError",
     "evalue": "could not convert string to float: 'Other'",
     "output_type": "error",
     "traceback": [
      "\u001b[1;31m---------------------------------------------------------------------------\u001b[0m",
      "\u001b[1;31mValueError\u001b[0m                                Traceback (most recent call last)",
      "Cell \u001b[1;32mIn[78], line 2\u001b[0m\n\u001b[0;32m      1\u001b[0m plt\u001b[38;5;241m.\u001b[39mfigure(figsize\u001b[38;5;241m=\u001b[39m(\u001b[38;5;241m10\u001b[39m, \u001b[38;5;241m8\u001b[39m))\n\u001b[1;32m----> 2\u001b[0m sns\u001b[38;5;241m.\u001b[39mheatmap(\u001b[43mdf\u001b[49m\u001b[38;5;241;43m.\u001b[39;49m\u001b[43mcorr\u001b[49m\u001b[43m(\u001b[49m\u001b[43m)\u001b[49m, annot\u001b[38;5;241m=\u001b[39m\u001b[38;5;28;01mTrue\u001b[39;00m)\n\u001b[0;32m      3\u001b[0m plt\u001b[38;5;241m.\u001b[39mshow()\n",
      "File \u001b[1;32mc:\\Users\\ruben\\Python-Environments\\venv-munics-tfm\\lib\\site-packages\\pandas\\core\\frame.py:11049\u001b[0m, in \u001b[0;36mDataFrame.corr\u001b[1;34m(self, method, min_periods, numeric_only)\u001b[0m\n\u001b[0;32m  11047\u001b[0m cols \u001b[38;5;241m=\u001b[39m data\u001b[38;5;241m.\u001b[39mcolumns\n\u001b[0;32m  11048\u001b[0m idx \u001b[38;5;241m=\u001b[39m cols\u001b[38;5;241m.\u001b[39mcopy()\n\u001b[1;32m> 11049\u001b[0m mat \u001b[38;5;241m=\u001b[39m \u001b[43mdata\u001b[49m\u001b[38;5;241;43m.\u001b[39;49m\u001b[43mto_numpy\u001b[49m\u001b[43m(\u001b[49m\u001b[43mdtype\u001b[49m\u001b[38;5;241;43m=\u001b[39;49m\u001b[38;5;28;43mfloat\u001b[39;49m\u001b[43m,\u001b[49m\u001b[43m \u001b[49m\u001b[43mna_value\u001b[49m\u001b[38;5;241;43m=\u001b[39;49m\u001b[43mnp\u001b[49m\u001b[38;5;241;43m.\u001b[39;49m\u001b[43mnan\u001b[49m\u001b[43m,\u001b[49m\u001b[43m \u001b[49m\u001b[43mcopy\u001b[49m\u001b[38;5;241;43m=\u001b[39;49m\u001b[38;5;28;43;01mFalse\u001b[39;49;00m\u001b[43m)\u001b[49m\n\u001b[0;32m  11051\u001b[0m \u001b[38;5;28;01mif\u001b[39;00m method \u001b[38;5;241m==\u001b[39m \u001b[38;5;124m\"\u001b[39m\u001b[38;5;124mpearson\u001b[39m\u001b[38;5;124m\"\u001b[39m:\n\u001b[0;32m  11052\u001b[0m     correl \u001b[38;5;241m=\u001b[39m libalgos\u001b[38;5;241m.\u001b[39mnancorr(mat, minp\u001b[38;5;241m=\u001b[39mmin_periods)\n",
      "File \u001b[1;32mc:\\Users\\ruben\\Python-Environments\\venv-munics-tfm\\lib\\site-packages\\pandas\\core\\frame.py:1993\u001b[0m, in \u001b[0;36mDataFrame.to_numpy\u001b[1;34m(self, dtype, copy, na_value)\u001b[0m\n\u001b[0;32m   1991\u001b[0m \u001b[38;5;28;01mif\u001b[39;00m dtype \u001b[38;5;129;01mis\u001b[39;00m \u001b[38;5;129;01mnot\u001b[39;00m \u001b[38;5;28;01mNone\u001b[39;00m:\n\u001b[0;32m   1992\u001b[0m     dtype \u001b[38;5;241m=\u001b[39m np\u001b[38;5;241m.\u001b[39mdtype(dtype)\n\u001b[1;32m-> 1993\u001b[0m result \u001b[38;5;241m=\u001b[39m \u001b[38;5;28;43mself\u001b[39;49m\u001b[38;5;241;43m.\u001b[39;49m\u001b[43m_mgr\u001b[49m\u001b[38;5;241;43m.\u001b[39;49m\u001b[43mas_array\u001b[49m\u001b[43m(\u001b[49m\u001b[43mdtype\u001b[49m\u001b[38;5;241;43m=\u001b[39;49m\u001b[43mdtype\u001b[49m\u001b[43m,\u001b[49m\u001b[43m \u001b[49m\u001b[43mcopy\u001b[49m\u001b[38;5;241;43m=\u001b[39;49m\u001b[43mcopy\u001b[49m\u001b[43m,\u001b[49m\u001b[43m \u001b[49m\u001b[43mna_value\u001b[49m\u001b[38;5;241;43m=\u001b[39;49m\u001b[43mna_value\u001b[49m\u001b[43m)\u001b[49m\n\u001b[0;32m   1994\u001b[0m \u001b[38;5;28;01mif\u001b[39;00m result\u001b[38;5;241m.\u001b[39mdtype \u001b[38;5;129;01mis\u001b[39;00m \u001b[38;5;129;01mnot\u001b[39;00m dtype:\n\u001b[0;32m   1995\u001b[0m     result \u001b[38;5;241m=\u001b[39m np\u001b[38;5;241m.\u001b[39masarray(result, dtype\u001b[38;5;241m=\u001b[39mdtype)\n",
      "File \u001b[1;32mc:\\Users\\ruben\\Python-Environments\\venv-munics-tfm\\lib\\site-packages\\pandas\\core\\internals\\managers.py:1694\u001b[0m, in \u001b[0;36mBlockManager.as_array\u001b[1;34m(self, dtype, copy, na_value)\u001b[0m\n\u001b[0;32m   1692\u001b[0m         arr\u001b[38;5;241m.\u001b[39mflags\u001b[38;5;241m.\u001b[39mwriteable \u001b[38;5;241m=\u001b[39m \u001b[38;5;28;01mFalse\u001b[39;00m\n\u001b[0;32m   1693\u001b[0m \u001b[38;5;28;01melse\u001b[39;00m:\n\u001b[1;32m-> 1694\u001b[0m     arr \u001b[38;5;241m=\u001b[39m \u001b[38;5;28;43mself\u001b[39;49m\u001b[38;5;241;43m.\u001b[39;49m\u001b[43m_interleave\u001b[49m\u001b[43m(\u001b[49m\u001b[43mdtype\u001b[49m\u001b[38;5;241;43m=\u001b[39;49m\u001b[43mdtype\u001b[49m\u001b[43m,\u001b[49m\u001b[43m \u001b[49m\u001b[43mna_value\u001b[49m\u001b[38;5;241;43m=\u001b[39;49m\u001b[43mna_value\u001b[49m\u001b[43m)\u001b[49m\n\u001b[0;32m   1695\u001b[0m     \u001b[38;5;66;03m# The underlying data was copied within _interleave, so no need\u001b[39;00m\n\u001b[0;32m   1696\u001b[0m     \u001b[38;5;66;03m# to further copy if copy=True or setting na_value\u001b[39;00m\n\u001b[0;32m   1698\u001b[0m \u001b[38;5;28;01mif\u001b[39;00m na_value \u001b[38;5;129;01mis\u001b[39;00m lib\u001b[38;5;241m.\u001b[39mno_default:\n",
      "File \u001b[1;32mc:\\Users\\ruben\\Python-Environments\\venv-munics-tfm\\lib\\site-packages\\pandas\\core\\internals\\managers.py:1753\u001b[0m, in \u001b[0;36mBlockManager._interleave\u001b[1;34m(self, dtype, na_value)\u001b[0m\n\u001b[0;32m   1751\u001b[0m     \u001b[38;5;28;01melse\u001b[39;00m:\n\u001b[0;32m   1752\u001b[0m         arr \u001b[38;5;241m=\u001b[39m blk\u001b[38;5;241m.\u001b[39mget_values(dtype)\n\u001b[1;32m-> 1753\u001b[0m     \u001b[43mresult\u001b[49m\u001b[43m[\u001b[49m\u001b[43mrl\u001b[49m\u001b[38;5;241;43m.\u001b[39;49m\u001b[43mindexer\u001b[49m\u001b[43m]\u001b[49m \u001b[38;5;241m=\u001b[39m arr\n\u001b[0;32m   1754\u001b[0m     itemmask[rl\u001b[38;5;241m.\u001b[39mindexer] \u001b[38;5;241m=\u001b[39m \u001b[38;5;241m1\u001b[39m\n\u001b[0;32m   1756\u001b[0m \u001b[38;5;28;01mif\u001b[39;00m \u001b[38;5;129;01mnot\u001b[39;00m itemmask\u001b[38;5;241m.\u001b[39mall():\n",
      "\u001b[1;31mValueError\u001b[0m: could not convert string to float: 'Other'"
     ]
    },
    {
     "data": {
      "text/plain": [
       "<Figure size 1000x800 with 0 Axes>"
      ]
     },
     "metadata": {},
     "output_type": "display_data"
    }
   ],
   "source": [
    "plt.figure(figsize=(10, 8))\n",
    "sns.heatmap(df.corr(), annot=True)\n",
    "plt.show()"
   ]
  },
  {
   "cell_type": "markdown",
   "metadata": {},
   "source": [
    "### Preprocessing"
   ]
  },
  {
   "cell_type": "code",
   "execution_count": 25,
   "metadata": {},
   "outputs": [
    {
     "name": "stdout",
     "output_type": "stream",
     "text": [
      "Number of examples/rows: 109,663\n",
      "Number of features: 112\n"
     ]
    }
   ],
   "source": [
    "my_show_df_shape(df)"
   ]
  },
  {
   "cell_type": "code",
   "execution_count": 26,
   "metadata": {},
   "outputs": [],
   "source": [
    "df.dropna(subset=target, inplace=True)"
   ]
  },
  {
   "cell_type": "code",
   "execution_count": 27,
   "metadata": {},
   "outputs": [
    {
     "name": "stdout",
     "output_type": "stream",
     "text": [
      "Number of examples/rows: 109,663\n",
      "Number of features: 112\n"
     ]
    }
   ],
   "source": [
    "my_show_df_shape(df)"
   ]
  },
  {
   "cell_type": "code",
   "execution_count": 28,
   "metadata": {},
   "outputs": [],
   "source": [
    "df['OS target'] = df[targets[0]] + \" \" + df[targets[1]].astype(str)\n",
    "df.drop(targets, axis=1, inplace=True)\n",
    "target = 'OS target'"
   ]
  },
  {
   "cell_type": "code",
   "execution_count": 29,
   "metadata": {},
   "outputs": [
    {
     "name": "stdout",
     "output_type": "stream",
     "text": [
      "Number of examples/rows: 109,663\n",
      "Number of features: 110\n"
     ]
    }
   ],
   "source": [
    "my_show_df_shape(df)"
   ]
  },
  {
   "cell_type": "code",
   "execution_count": 30,
   "metadata": {},
   "outputs": [],
   "source": [
    "drop_columns = [\n",
    "    \"flow_ID\",\n",
    "    \"UA OS patch\",\n",
    "    \"UA OS patch minor\",\n",
    "    \"ICMP TYPE\",\n",
    "    \"TLS_ALPN\",\n",
    "    \"TLS_ISSUER_CN\",\n",
    "    \"TLS_SUBJECT_CN\",\n",
    "    \"TLS_SUBJECT_ON\",\n",
    "    \"Unnamed: 111\"\n",
    "]\n",
    "\n",
    "df.drop(columns=drop_columns, inplace=True)"
   ]
  },
  {
   "cell_type": "code",
   "execution_count": 31,
   "metadata": {},
   "outputs": [
    {
     "name": "stdout",
     "output_type": "stream",
     "text": [
      "Number of examples/rows: 109,663\n",
      "Number of features: 101\n"
     ]
    }
   ],
   "source": [
    "my_show_df_shape(df)"
   ]
  },
  {
   "cell_type": "code",
   "execution_count": 32,
   "metadata": {},
   "outputs": [],
   "source": [
    "drop_nans_rows = [\n",
    "    \"TCP SYN Size\",\n",
    "    \"TCP Win Size\"\n",
    "]\n",
    "\n",
    "df.dropna(subset=drop_nans_rows, \n",
    "          inplace=True)"
   ]
  },
  {
   "cell_type": "code",
   "execution_count": 33,
   "metadata": {},
   "outputs": [
    {
     "name": "stdout",
     "output_type": "stream",
     "text": [
      "Number of examples/rows: 109,661\n",
      "Number of features: 101\n"
     ]
    }
   ],
   "source": [
    "my_show_df_shape(df)"
   ]
  },
  {
   "cell_type": "code",
   "execution_count": 34,
   "metadata": {},
   "outputs": [
    {
     "name": "stdout",
     "output_type": "stream",
     "text": [
      "Number of examples/rows: 109661\n",
      "Number of features: 101\n",
      "Features with NaNs:\n",
      "start                                            no NaNs\n",
      "end                                              no NaNs\n",
      "L3 PROTO                                         no NaNs\n",
      "L4 PROTO                                         no NaNs\n",
      "BYTES A                                          no NaNs\n",
      "PACKETS A                                        no NaNs\n",
      "SRC IP                                           no NaNs\n",
      "DST IP                                           no NaNs\n",
      "TCP flags A                                      no NaNs\n",
      "SRC port                                         no NaNs\n",
      "DST port                                         no NaNs\n",
      "TCP SYN Size                                     no NaNs\n",
      "TCP Win Size                                     no NaNs\n",
      "TCP SYN TTL                                      no NaNs\n",
      "IP ToS                                           no NaNs\n",
      "HTTP Request Host                                no NaNs\n",
      "URL                                              no NaNs\n",
      "NPM_CLIENT_NETWORK_TIME                          no NaNs\n",
      "NPM_SERVER_NETWORK_TIME                          no NaNs\n",
      "NPM_SERVER_RESPONSE_TIME                         no NaNs\n",
      "NPM_ROUND_TRIP_TIME                              no NaNs\n",
      "NPM_RESPONSE_TIMEOUTS_A                          no NaNs\n",
      "NPM_RESPONSE_TIMEOUTS_B                          no NaNs\n",
      "NPM_TCP_RETRANSMISSION_A                         no NaNs\n",
      "NPM_TCP_RETRANSMISSION_B                         no NaNs\n",
      "NPM_TCP_OUT_OF_ORDER_A                           no NaNs\n",
      "NPM_TCP_OUT_OF_ORDER_B                           no NaNs\n",
      "NPM_JITTER_DEV_A                                 no NaNs\n",
      "NPM_JITTER_AVG_A                                 no NaNs\n",
      "NPM_JITTER_MIN_A                                 no NaNs\n",
      "NPM_JITTER_MAX_A                                 no NaNs\n",
      "NPM_DELAY_DEV_A                                  no NaNs\n",
      "NPM_DELAY_AVG_A                                  no NaNs\n",
      "NPM_DELAY_MIN_A                                  no NaNs\n",
      "NPM_DELAY_MAX_A                                  no NaNs\n",
      "NPM_DELAY_HISTOGRAM_1_A                          no NaNs\n",
      "NPM_DELAY_HISTOGRAM_2_A                          no NaNs\n",
      "NPM_DELAY_HISTOGRAM_3_A                          no NaNs\n",
      "NPM_DELAY_HISTOGRAM_4_A                          no NaNs\n",
      "NPM_DELAY_HISTOGRAM_5_A                          no NaNs\n",
      "NPM_DELAY_HISTOGRAM_6_A                          no NaNs\n",
      "NPM_DELAY_HISTOGRAM_7_A                          no NaNs\n",
      "NPM_JITTER_DEV_B                                 no NaNs\n",
      "NPM_JITTER_AVG_B                                 no NaNs\n",
      "NPM_JITTER_MIN_B                                 no NaNs\n",
      "NPM_JITTER_MAX_B                                 no NaNs\n",
      "NPM_DELAY_DEV_B                                  no NaNs\n",
      "NPM_DELAY_AVG_B                                  no NaNs\n",
      "NPM_DELAY_MIN_B                                  no NaNs\n",
      "NPM_DELAY_MAX_B                                  no NaNs\n",
      "NPM_DELAY_HISTOGRAM_1_B                          no NaNs\n",
      "NPM_DELAY_HISTOGRAM_2_B                          no NaNs\n",
      "NPM_DELAY_HISTOGRAM_3_B                          no NaNs\n",
      "NPM_DELAY_HISTOGRAM_4_B                          no NaNs\n",
      "NPM_DELAY_HISTOGRAM_5_B                          no NaNs\n",
      "NPM_DELAY_HISTOGRAM_6_B                          no NaNs\n",
      "NPM_DELAY_HISTOGRAM_7_B                          no NaNs\n",
      "TLS_CONTENT_TYPE                            10288      9.3816  %\n",
      "TLS_HANDSHAKE_TYPE                          10288      9.3816  %\n",
      "TLS_SETUP_TIME                              10288      9.3816  %\n",
      "TLS_SERVER_VERSION                          10288      9.3816  %\n",
      "TLS_SERVER_RANDOM                           10288      9.3816  %\n",
      "TLS_SERVER_SESSION_ID                       10288      9.3816  %\n",
      "TLS_CIPHER_SUITE                            10288      9.3816  %\n",
      "TLS_SNI                                     10288      9.3816  %\n",
      "TLS_SNI_LENGTH                              10288      9.3816  %\n",
      "TLS_CLIENT_VERSION                          10288      9.3816  %\n",
      "TLS_CIPHER_SUITES                           10288      9.3816  %\n",
      "TLS_CLIENT_RANDOM                           10288      9.3816  %\n",
      "TLS_CLIENT_SESSION_ID                       10288      9.3816  %\n",
      "TLS_EXTENSION_TYPES                         10288      9.3816  %\n",
      "TLS_EXTENSION_LENGTHS                       10288      9.3816  %\n",
      "TLS_ELLIPTIC_CURVES                         10288      9.3816  %\n",
      "TLS_EC_POINT_FORMATS                        10288      9.3816  %\n",
      "TLS_CLIENT_KEY_LENGTH                       10288      9.3816  %\n",
      "TLS_VALIDITY_NOT_BEFORE                     10288      9.3816  %\n",
      "TLS_VALIDITY_NOT_AFTER                      10288      9.3816  %\n",
      "TLS_SIGNATURE_ALG                           10288      9.3816  %\n",
      "TLS_PUBLIC_KEY_ALG                          10288      9.3816  %\n",
      "TLS_PUBLIC_KEY_LENGTH                       10288      9.3816  %\n",
      "TLS_JA3_FINGERPRINT                         10288      9.3816  %\n",
      "maximumTTLforward                                no NaNs\n",
      "maximumTTLbackward                               no NaNs\n",
      "IPv4DontFragmentforward                          no NaNs\n",
      "IPv4DontFragmentbackward                         no NaNs\n",
      "tcpTimestampFirstPacketforward              43624      39.7808 %\n",
      "tcpTimestampFirstPacketbackward             57175      52.1380 %\n",
      "tcpOptionWindowScaleforward                 10108      9.2175  %\n",
      "tcpOptionWindowScalebackward                10109      9.2184  %\n",
      "tcpOptionSelectiveAckPermittedforward            no NaNs\n",
      "tcpOptionSelectiveAckPermittedbackward           no NaNs\n",
      "tcpOptionMaximumSegmentSizeforward          57         0.0520  %\n",
      "tcpOptionMaximumSegmentSizebackward              no NaNs\n",
      "tcpOptionNoOperationforward                      no NaNs\n",
      "tcpOptionNoOperationbackward                     no NaNs\n",
      "packetTotalCountforward                          no NaNs\n",
      "packetTotalCountbackward                         no NaNs\n",
      "flowDirection                                    no NaNs\n",
      "flowEndReason                                    no NaNs\n",
      "synAckFlag                                       no NaNs\n",
      "OS target                                        no NaNs\n"
     ]
    }
   ],
   "source": [
    "my_show_df_NaNs(df)"
   ]
  },
  {
   "cell_type": "code",
   "execution_count": 35,
   "metadata": {},
   "outputs": [],
   "source": [
    "df.loc[df[target].str.contains('Other', na=False), target] = 'Other'"
   ]
  },
  {
   "cell_type": "code",
   "execution_count": 36,
   "metadata": {},
   "outputs": [],
   "source": [
    "df.loc[df[target].str.contains('iOS', na=False), target] = 'iOS'"
   ]
  },
  {
   "cell_type": "code",
   "execution_count": 37,
   "metadata": {},
   "outputs": [],
   "source": [
    "df.loc[df[target].str.contains('Android', na=False), target] = 'Android'"
   ]
  },
  {
   "cell_type": "code",
   "execution_count": 38,
   "metadata": {},
   "outputs": [],
   "source": [
    "df.loc[df[target].str.contains('Mac OS X', na=False), target] = 'Mac OS X'"
   ]
  },
  {
   "cell_type": "code",
   "execution_count": 39,
   "metadata": {},
   "outputs": [],
   "source": [
    "# df.loc[df[target].str.contains('Chrome OS', na=False), target] = 'Chrome OS'"
   ]
  },
  {
   "cell_type": "code",
   "execution_count": 40,
   "metadata": {},
   "outputs": [],
   "source": [
    "df.loc[df[target].str.contains('Windows (?!10|7)', regex=True, na=False), target] = 'Windows O'"
   ]
  },
  {
   "cell_type": "code",
   "execution_count": 41,
   "metadata": {},
   "outputs": [
    {
     "name": "stderr",
     "output_type": "stream",
     "text": [
      "C:\\Users\\ruben\\AppData\\Local\\Temp\\ipykernel_24024\\2102560513.py:1: UserWarning: This pattern is interpreted as a regular expression, and has match groups. To actually get the groups, use str.extract.\n",
      "  df.loc[~df[target].str.contains('(Windows|Android|iOS|Mac|Other)', regex=True, na=False), target] = 'Linux'\n"
     ]
    }
   ],
   "source": [
    "df.loc[~df[target].str.contains('(Windows|Android|iOS|Mac|Other)', regex=True, na=False), target] = 'Linux'"
   ]
  },
  {
   "cell_type": "code",
   "execution_count": 42,
   "metadata": {},
   "outputs": [
    {
     "data": {
      "text/plain": [
       "OS target\n",
       "Other         42474\n",
       "Windows 10    29557\n",
       "Android       10289\n",
       "iOS            8840\n",
       "Windows 7      7725\n",
       "Mac OS X       5324\n",
       "Windows O      3066\n",
       "Linux          2386\n",
       "Name: count, dtype: int64"
      ]
     },
     "execution_count": 42,
     "metadata": {},
     "output_type": "execute_result"
    }
   ],
   "source": [
    "df[target].value_counts()"
   ]
  },
  {
   "cell_type": "code",
   "execution_count": 43,
   "metadata": {},
   "outputs": [],
   "source": [
    "df.drop_duplicates(inplace=True)"
   ]
  },
  {
   "cell_type": "code",
   "execution_count": 44,
   "metadata": {},
   "outputs": [
    {
     "data": {
      "image/png": "[encoded data removed]",
      "text/plain": [
       "<Figure size 640x480 with 1 Axes>"
      ]
     },
     "metadata": {},
     "output_type": "display_data"
    },
    {
     "data": {
      "image/png": "[encoded data removed]",
      "text/plain": [
       "<Figure size 640x480 with 1 Axes>"
      ]
     },
     "metadata": {},
     "output_type": "display_data"
    }
   ],
   "source": [
    "top = 30\n",
    "\n",
    "top_values = df[target].value_counts().head(top)\n",
    "\n",
    "plt.xticks(rotation=0)\n",
    "sns.countplot(y=target, data=df[df[target].isin(top_values.index)], order=top_values.index.sort_values())\n",
    "plt.show()\n",
    "\n",
    "plt.xticks(rotation=0)\n",
    "sns.countplot(y=target, data=df[df[target].isin(top_values.index)], order=top_values.index)\n",
    "plt.show()"
   ]
  },
  {
   "cell_type": "code",
   "execution_count": 45,
   "metadata": {},
   "outputs": [
    {
     "data": {
      "image/png": "[encoded data removed]",
      "text/plain": [
       "<Figure size 640x480 with 1 Axes>"
      ]
     },
     "metadata": {},
     "output_type": "display_data"
    },
    {
     "data": {
      "image/png": "[encoded data removed]",
      "text/plain": [
       "<Figure size 640x480 with 1 Axes>"
      ]
     },
     "metadata": {},
     "output_type": "display_data"
    }
   ],
   "source": [
    "plt.xticks(rotation=0)\n",
    "ax = sns.countplot(y=target, data=df[df[target].isin(top_values.index)], order=top_values.index.sort_values())\n",
    "for p in ax.patches:\n",
    "    ax.annotate(str(p.get_width()), (p.get_width(), p.get_y() + p.get_height() / 2), ha='left', va='center')\n",
    "plt.show()\n",
    "\n",
    "plt.xticks(rotation=0)\n",
    "ax = sns.countplot(y=target, data=df[df[target].isin(top_values.index)], order=top_values.index)\n",
    "for p in ax.patches:\n",
    "    ax.annotate(str(p.get_width()), (p.get_width(), p.get_y() + p.get_height() / 2), ha='left', va='center')\n",
    "plt.show()"
   ]
  },
  {
   "cell_type": "code",
   "execution_count": 46,
   "metadata": {},
   "outputs": [
    {
     "name": "stdout",
     "output_type": "stream",
     "text": [
      "Index(['L3 PROTO', 'L4 PROTO', 'NPM_DELAY_HISTOGRAM_2_A',\n",
      "       'NPM_DELAY_HISTOGRAM_3_A', 'NPM_DELAY_HISTOGRAM_4_A',\n",
      "       'NPM_DELAY_HISTOGRAM_5_A', 'NPM_DELAY_HISTOGRAM_6_A',\n",
      "       'NPM_DELAY_HISTOGRAM_7_A', 'NPM_DELAY_HISTOGRAM_2_B',\n",
      "       'NPM_DELAY_HISTOGRAM_3_B', 'NPM_DELAY_HISTOGRAM_4_B',\n",
      "       'NPM_DELAY_HISTOGRAM_5_B', 'NPM_DELAY_HISTOGRAM_6_B',\n",
      "       'NPM_DELAY_HISTOGRAM_7_B', 'TLS_VALIDITY_NOT_BEFORE',\n",
      "       'TLS_VALIDITY_NOT_AFTER', 'TLS_SIGNATURE_ALG', 'TLS_PUBLIC_KEY_ALG',\n",
      "       'TLS_PUBLIC_KEY_LENGTH', 'maximumTTLbackward',\n",
      "       'IPv4DontFragmentbackward', 'tcpOptionWindowScalebackward',\n",
      "       'tcpOptionMaximumSegmentSizebackward', 'synAckFlag'],\n",
      "      dtype='object')\n"
     ]
    }
   ],
   "source": [
    "numeric_columns = df.select_dtypes(include=['float', 'int'])\n",
    "low_variance_columns = numeric_columns.columns[numeric_columns.var() <= 0]\n",
    "print(low_variance_columns)\n",
    "df.drop(columns=low_variance_columns, inplace=True)"
   ]
  },
  {
   "cell_type": "code",
   "execution_count": 47,
   "metadata": {},
   "outputs": [],
   "source": [
    "import openpyxl\n",
    "\n",
    "description = df.describe()\n",
    "description.to_excel('description.xlsx', index=True)"
   ]
  },
  {
   "cell_type": "code",
   "execution_count": 48,
   "metadata": {},
   "outputs": [
    {
     "name": "stdout",
     "output_type": "stream",
     "text": [
      "Number of examples/rows: 109661\n",
      "Number of features: 77\n",
      "Features with NaNs:\n",
      "start                                            no NaNs\n",
      "end                                              no NaNs\n",
      "BYTES A                                          no NaNs\n",
      "PACKETS A                                        no NaNs\n",
      "SRC IP                                           no NaNs\n",
      "DST IP                                           no NaNs\n",
      "TCP flags A                                      no NaNs\n",
      "SRC port                                         no NaNs\n",
      "DST port                                         no NaNs\n",
      "TCP SYN Size                                     no NaNs\n",
      "TCP Win Size                                     no NaNs\n",
      "TCP SYN TTL                                      no NaNs\n",
      "IP ToS                                           no NaNs\n",
      "HTTP Request Host                                no NaNs\n",
      "URL                                              no NaNs\n",
      "NPM_CLIENT_NETWORK_TIME                          no NaNs\n",
      "NPM_SERVER_NETWORK_TIME                          no NaNs\n",
      "NPM_SERVER_RESPONSE_TIME                         no NaNs\n",
      "NPM_ROUND_TRIP_TIME                              no NaNs\n",
      "NPM_RESPONSE_TIMEOUTS_A                          no NaNs\n",
      "NPM_RESPONSE_TIMEOUTS_B                          no NaNs\n",
      "NPM_TCP_RETRANSMISSION_A                         no NaNs\n",
      "NPM_TCP_RETRANSMISSION_B                         no NaNs\n",
      "NPM_TCP_OUT_OF_ORDER_A                           no NaNs\n",
      "NPM_TCP_OUT_OF_ORDER_B                           no NaNs\n",
      "NPM_JITTER_DEV_A                                 no NaNs\n",
      "NPM_JITTER_AVG_A                                 no NaNs\n",
      "NPM_JITTER_MIN_A                                 no NaNs\n",
      "NPM_JITTER_MAX_A                                 no NaNs\n",
      "NPM_DELAY_DEV_A                                  no NaNs\n",
      "NPM_DELAY_AVG_A                                  no NaNs\n",
      "NPM_DELAY_MIN_A                                  no NaNs\n",
      "NPM_DELAY_MAX_A                                  no NaNs\n",
      "NPM_DELAY_HISTOGRAM_1_A                          no NaNs\n",
      "NPM_JITTER_DEV_B                                 no NaNs\n",
      "NPM_JITTER_AVG_B                                 no NaNs\n",
      "NPM_JITTER_MIN_B                                 no NaNs\n",
      "NPM_JITTER_MAX_B                                 no NaNs\n",
      "NPM_DELAY_DEV_B                                  no NaNs\n",
      "NPM_DELAY_AVG_B                                  no NaNs\n",
      "NPM_DELAY_MIN_B                                  no NaNs\n",
      "NPM_DELAY_MAX_B                                  no NaNs\n",
      "NPM_DELAY_HISTOGRAM_1_B                          no NaNs\n",
      "TLS_CONTENT_TYPE                            10288      9.3816  %\n",
      "TLS_HANDSHAKE_TYPE                          10288      9.3816  %\n",
      "TLS_SETUP_TIME                              10288      9.3816  %\n",
      "TLS_SERVER_VERSION                          10288      9.3816  %\n",
      "TLS_SERVER_RANDOM                           10288      9.3816  %\n",
      "TLS_SERVER_SESSION_ID                       10288      9.3816  %\n",
      "TLS_CIPHER_SUITE                            10288      9.3816  %\n",
      "TLS_SNI                                     10288      9.3816  %\n",
      "TLS_SNI_LENGTH                              10288      9.3816  %\n",
      "TLS_CLIENT_VERSION                          10288      9.3816  %\n",
      "TLS_CIPHER_SUITES                           10288      9.3816  %\n",
      "TLS_CLIENT_RANDOM                           10288      9.3816  %\n",
      "TLS_CLIENT_SESSION_ID                       10288      9.3816  %\n",
      "TLS_EXTENSION_TYPES                         10288      9.3816  %\n",
      "TLS_EXTENSION_LENGTHS                       10288      9.3816  %\n",
      "TLS_ELLIPTIC_CURVES                         10288      9.3816  %\n",
      "TLS_EC_POINT_FORMATS                        10288      9.3816  %\n",
      "TLS_CLIENT_KEY_LENGTH                       10288      9.3816  %\n",
      "TLS_JA3_FINGERPRINT                         10288      9.3816  %\n",
      "maximumTTLforward                                no NaNs\n",
      "IPv4DontFragmentforward                          no NaNs\n",
      "tcpTimestampFirstPacketforward              43624      39.7808 %\n",
      "tcpTimestampFirstPacketbackward             57175      52.1380 %\n",
      "tcpOptionWindowScaleforward                 10108      9.2175  %\n",
      "tcpOptionSelectiveAckPermittedforward            no NaNs\n",
      "tcpOptionSelectiveAckPermittedbackward           no NaNs\n",
      "tcpOptionMaximumSegmentSizeforward          57         0.0520  %\n",
      "tcpOptionNoOperationforward                      no NaNs\n",
      "tcpOptionNoOperationbackward                     no NaNs\n",
      "packetTotalCountforward                          no NaNs\n",
      "packetTotalCountbackward                         no NaNs\n",
      "flowDirection                                    no NaNs\n",
      "flowEndReason                                    no NaNs\n",
      "OS target                                        no NaNs\n"
     ]
    }
   ],
   "source": [
    "my_show_df_NaNs(df)"
   ]
  },
  {
   "cell_type": "code",
   "execution_count": 49,
   "metadata": {},
   "outputs": [
    {
     "data": {
      "text/plain": [
       "NPM_CLIENT_NETWORK_TIME\n",
       "99053     24\n",
       "99030     24\n",
       "103174    23\n",
       "106298    22\n",
       "108640    22\n",
       "          ..\n",
       "150540     1\n",
       "62155      1\n",
       "13472      1\n",
       "140082     1\n",
       "196926     1\n",
       "Name: count, Length: 58920, dtype: int64"
      ]
     },
     "execution_count": 49,
     "metadata": {},
     "output_type": "execute_result"
    }
   ],
   "source": [
    "df[\"NPM_CLIENT_NETWORK_TIME\"].value_counts()"
   ]
  },
  {
   "cell_type": "markdown",
   "metadata": {},
   "source": [
    "### Split"
   ]
  },
  {
   "cell_type": "raw",
   "metadata": {
    "vscode": {
     "languageId": "raw"
    }
   },
   "source": [
    "# Split the dataset into training and testing sets\n",
    "\n",
    "X = df.drop('target_column', axis=1)  # Features\n",
    "y = df['target_column']  # Target variable"
   ]
  }
 ],
 "metadata": {
  "interpreter": {
   "hash": "79c990d43e9044a7289f568bd6e831504df6bfea29362bee0271b5fc85673147"
  },
  "kernelspec": {
   "display_name": "Python 3.8.10 64-bit ('.venv': venv)",
   "name": "python3"
  },
  "language_info": {
   "codemirror_mode": {
    "name": "ipython",
    "version": 3
   },
   "file_extension": ".py",
   "mimetype": "text/x-python",
   "name": "python",
   "nbconvert_exporter": "python",
   "pygments_lexer": "ipython3",
   "version": "3.10.8"
  }
 },
 "nbformat": 4,
 "nbformat_minor": 2
}
